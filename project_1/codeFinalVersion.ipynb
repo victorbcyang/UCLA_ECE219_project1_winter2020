{
 "cells": [
  {
   "cell_type": "code",
   "execution_count": null,
   "metadata": {
    "colab": {},
    "colab_type": "code",
    "id": "0XS8Nr4QiVWN"
   },
   "outputs": [],
   "source": [
    "import numpy as np\n",
    "import sklearn\n",
    "# fetch_20newsgroups is the built-in dataset loader for \"20 newsgroups\" from scikit-learn package\n",
    "from sklearn.datasets import fetch_20newsgroups\n",
    "# traning set\n",
    "newsgroups_train = fetch_20newsgroups(subset='train')\n",
    "# all data set\n",
    "newsgroups_all = fetch_20newsgroups()\n",
    "import matplotlib.pyplot as plt"
   ]
  },
  {
   "cell_type": "code",
   "execution_count": null,
   "metadata": {
    "colab": {},
    "colab_type": "code",
    "id": "3WaUmwzEig6L"
   },
   "outputs": [],
   "source": [
    "cate_sum = np.zeros(20)\n",
    "for i in range(0, len(newsgroups_train.target) - 1):\n",
    "  cate_sum[newsgroups_all.target[i]] += 1"
   ]
  },
  {
   "cell_type": "markdown",
   "metadata": {
    "colab_type": "text",
    "id": "y2doYkCX7QbQ"
   },
   "source": [
    "**Question1**\n",
    "\n",
    "plot a histogram of the number of training documents for each of the 20 categories to check if they are evenly distributed."
   ]
  },
  {
   "cell_type": "code",
   "execution_count": 5,
   "metadata": {
    "colab": {
     "base_uri": "https://localhost:8080/",
     "height": 423
    },
    "colab_type": "code",
    "id": "61FuiyzXkgYl",
    "outputId": "d30322c4-6085-48ca-de8b-3e4ba30732df"
   },
   "outputs": [
    {
     "data": {
      "text/plain": [
       "<BarContainer object of 20 artists>"
      ]
     },
     "execution_count": 5,
     "metadata": {
      "tags": []
     },
     "output_type": "execute_result"
    },
    {
     "data": {
      "image/png": "[encoded data removed]",
      "text/plain": [
       "<Figure size 432x288 with 1 Axes>"
      ]
     },
     "metadata": {
      "tags": []
     },
     "output_type": "display_data"
    }
   ],
   "source": [
    "bar_name= range(0,20)\n",
    "# print(bar_name)\n",
    "x_tick = newsgroups_train.target_names\n",
    "tick_marks = np.arange(len(x_tick))\n",
    "plt.title('Number of samples in each category')\n",
    "plt.xticks(tick_marks, x_tick, rotation=90)\n",
    "# plt.yticks(tick_marks, y_tick)\n",
    "plt.bar(bar_name,cate_sum)"
   ]
  },
  {
   "cell_type": "markdown",
   "metadata": {
    "colab_type": "text",
    "id": "s5Hv7-Pj0X_M"
   },
   "source": [
    "**Question 2**"
   ]
  },
  {
   "cell_type": "code",
   "execution_count": 6,
   "metadata": {
    "colab": {
     "base_uri": "https://localhost:8080/",
     "height": 118
    },
    "colab_type": "code",
    "id": "xMfO2Ev2SZXl",
    "outputId": "d5fba26e-2b7e-4daa-b1d9-98a59e89cf6c"
   },
   "outputs": [
    {
     "name": "stdout",
     "output_type": "stream",
     "text": [
      "[nltk_data] Downloading package wordnet to /root/nltk_data...\n",
      "[nltk_data]   Unzipping corpora/wordnet.zip.\n",
      "[nltk_data] Downloading package averaged_perceptron_tagger to\n",
      "[nltk_data]     /root/nltk_data...\n",
      "[nltk_data]   Unzipping taggers/averaged_perceptron_tagger.zip.\n"
     ]
    },
    {
     "data": {
      "text/plain": [
       "True"
      ]
     },
     "execution_count": 6,
     "metadata": {
      "tags": []
     },
     "output_type": "execute_result"
    }
   ],
   "source": [
    "import numpy as np\n",
    "np.random.seed(42)\n",
    "import random\n",
    "random.seed(42)\n",
    "\n",
    "from sklearn.feature_extraction.text import CountVectorizer, TfidfVectorizer, TfidfTransformer\n",
    "import nltk\n",
    "import re\n",
    "from nltk.stem import WordNetLemmatizer \n",
    "from nltk import pos_tag\n",
    "from nltk.corpus import wordnet\n",
    "from sklearn.feature_extraction import text\n",
    "stop_words = text.ENGLISH_STOP_WORDS\n",
    "nltk.download('wordnet')\n",
    "nltk.download('averaged_perceptron_tagger')\n"
   ]
  },
  {
   "cell_type": "code",
   "execution_count": null,
   "metadata": {
    "colab": {},
    "colab_type": "code",
    "id": "9-T1hKSKmvCt"
   },
   "outputs": [],
   "source": [
    "# Load the data\n",
    "categories = ['comp.graphics', 'comp.os.ms-windows.misc', 'comp.sys.ibm.pc.hardware',\n",
    "               'comp.sys.mac.hardware', 'rec.autos', 'rec.motorcycles', 'rec.sport.baseball', 'rec.sport.hockey']\n",
    "train_dataset = fetch_20newsgroups(subset = 'train', categories = categories, shuffle = True, random_state = 42)\n",
    "test_dataset = fetch_20newsgroups(subset = 'test', categories = categories, shuffle = True, random_state = 42)\n",
    "\n",
    "stop_dict = set(stop_words)"
   ]
  },
  {
   "cell_type": "code",
   "execution_count": null,
   "metadata": {
    "colab": {},
    "colab_type": "code",
    "id": "btGFXoah4VIo"
   },
   "outputs": [],
   "source": [
    "def pre_processing(train_dataset, test_dataset, stop_dict):\n",
    "        \n",
    "    # Init the Wordnet Lemmatizer\n",
    "    lemmatizer = WordNetLemmatizer() \n",
    "    analyzer = CountVectorizer().build_analyzer()\n",
    "\n",
    "\n",
    "    def get_wordnet_pos(tag):\n",
    "        if tag.startswith('J'):\n",
    "            return wordnet.ADJ\n",
    "        elif tag.startswith('V'):\n",
    "            return wordnet.VERB\n",
    "        elif tag.startswith('N'):\n",
    "            return wordnet.NOUN\n",
    "        elif tag.startswith('R'):\n",
    "            return wordnet.ADV\n",
    "        else:\n",
    "            return wordnet.NOUN\n",
    "\n",
    "    def stop_words(word):\n",
    "        if word in stop_dict:\n",
    "            return True\n",
    "        else:\n",
    "            return False\n",
    "\n",
    "    def is_number(word):\n",
    "        pattern = re.compile(r'^[-+]?[-0-9]\\d*\\.\\d*|[-+]?\\.?[0-9]\\d*$')\n",
    "        result = pattern.match(word)\n",
    "        if result:\n",
    "            return True\n",
    "        else:\n",
    "            return False\n",
    "\n",
    "    def lemmatized(list_word):\n",
    "        return [lemmatizer.lemmatize(word.lower(), pos = get_wordnet_pos(tag)) \n",
    "            for word, tag in pos_tag(list_word)]\n",
    "\n",
    "    def lemmatized_remove_num(doc):\n",
    "        return (word for word in lemmatized(analyzer(doc)) \n",
    "            if (not is_number(word)) and (not stop_words(word)))\n",
    "\n",
    "    vectorizer = CountVectorizer(analyzer = lemmatized_remove_num, min_df = 3)\n",
    "    processed_data_train = vectorizer.fit_transform(train_dataset.data) # input of fit_transform is a list\n",
    "    processed_data_test = vectorizer.transform(test_dataset.data)\n",
    "    return processed_data_train.toarray(), processed_data_test.toarray()\n"
   ]
  },
  {
   "cell_type": "code",
   "execution_count": null,
   "metadata": {
    "colab": {},
    "colab_type": "code",
    "id": "tLpC4GamGVrL"
   },
   "outputs": [],
   "source": [
    "processed_data_train, processed_data_test = pre_processing(train_dataset, test_dataset, stop_dict)\n",
    "# processed_data_test=pre_processing(test_dataset, stop_dict)"
   ]
  },
  {
   "cell_type": "code",
   "execution_count": 10,
   "metadata": {
    "colab": {
     "base_uri": "https://localhost:8080/",
     "height": 50
    },
    "colab_type": "code",
    "id": "d86eX38Df-kD",
    "outputId": "5ecda7cc-dd3e-414d-87d0-85ada504fe38"
   },
   "outputs": [
    {
     "name": "stdout",
     "output_type": "stream",
     "text": [
      "(3150, 16320)\n"
     ]
    },
    {
     "data": {
      "text/plain": [
       "(4732, 16320)"
      ]
     },
     "execution_count": 10,
     "metadata": {
      "tags": []
     },
     "output_type": "execute_result"
    }
   ],
   "source": [
    "print(processed_data_test.shape)\n",
    "processed_data_train.shape"
   ]
  },
  {
   "cell_type": "code",
   "execution_count": 11,
   "metadata": {
    "colab": {
     "base_uri": "https://localhost:8080/",
     "height": 50
    },
    "colab_type": "code",
    "id": "utWbXExB4csb",
    "outputId": "5ca00b25-a47f-412a-f550-5f7138a07ec3"
   },
   "outputs": [
    {
     "name": "stdout",
     "output_type": "stream",
     "text": [
      "(4732, 16320)\n",
      "(3150, 16320)\n"
     ]
    }
   ],
   "source": [
    "from sklearn.feature_extraction.text import CountVectorizer, TfidfVectorizer, TfidfTransformer\n",
    "transformer = TfidfTransformer()\n",
    "tfidf_matrix_train = transformer.fit_transform(processed_data_train)\n",
    "tfidf_matrix_test = transformer.transform(processed_data_test)\n",
    "\n",
    "# print(tfidf_matrix.toarray())\n",
    "print(np.shape(tfidf_matrix_train.toarray()))\n",
    "print(np.shape(tfidf_matrix_test.toarray()))"
   ]
  },
  {
   "cell_type": "markdown",
   "metadata": {
    "colab_type": "text",
    "id": "FE_RHGFxpxbk"
   },
   "source": [
    " **Question3**"
   ]
  },
  {
   "cell_type": "code",
   "execution_count": null,
   "metadata": {
    "colab": {},
    "colab_type": "code",
    "id": "ArNbAGZsp4Ze"
   },
   "outputs": [],
   "source": [
    "from sklearn.decomposition import TruncatedSVD\n",
    "def svd_processing(tfidf_matrix_train, tfidf_matrix_test):\n",
    "    svd = TruncatedSVD(n_components=50, random_state=42)\n",
    "    tfidf_matrix_LSI_train = svd.fit_transform(tfidf_matrix_train)\n",
    "    tfidf_matrix_LSI_test = svd.transform(tfidf_matrix_test)\n",
    "    print('Train LSI reduced set shape: ', tfidf_matrix_LSI_train.shape)\n",
    "    print('Test LSI reduced set shape: ', tfidf_matrix_LSI_test.shape)\n",
    "    Vk = svd.components_\n",
    "    LSI_train_error=np.sum(np.array(tfidf_matrix_train - tfidf_matrix_LSI_train.dot(Vk))**2)\n",
    "    LSI_test_error=np.sum(np.array(tfidf_matrix_test - tfidf_matrix_LSI_test.dot(Vk))**2)\n",
    "\n",
    "    print('LSI_train_error',LSI_train_error)\n",
    "    print('LSI_test_error',LSI_test_error)\n",
    "    return tfidf_matrix_LSI_train, tfidf_matrix_LSI_test\n"
   ]
  },
  {
   "cell_type": "code",
   "execution_count": 13,
   "metadata": {
    "colab": {
     "base_uri": "https://localhost:8080/",
     "height": 84
    },
    "colab_type": "code",
    "id": "si2GmZEVRZ_h",
    "outputId": "31a99263-d9c0-44b1-fcb5-51e66b4264e5"
   },
   "outputs": [
    {
     "name": "stdout",
     "output_type": "stream",
     "text": [
      "Train LSI reduced set shape:  (4732, 50)\n",
      "Test LSI reduced set shape:  (3150, 50)\n",
      "LSI_train_error 4106.983592089881\n",
      "LSI_test_error 2834.860854585667\n"
     ]
    }
   ],
   "source": [
    "tfidf_matrix_LSI_train, tfidf_matrix_LSI_test = svd_processing(tfidf_matrix_train, tfidf_matrix_test)"
   ]
  },
  {
   "cell_type": "code",
   "execution_count": null,
   "metadata": {
    "colab": {},
    "colab_type": "code",
    "id": "sXKMGDm6IhVR"
   },
   "outputs": [],
   "source": [
    "from sklearn.decomposition import NMF\n",
    "def NMF_processing(tfidf_matrix_train, tfidf_matrix_test):\n",
    "    model = NMF(n_components=50, init='random', random_state=42)\n",
    "    tfidf_matrix_NMF_W_train = model.fit_transform(tfidf_matrix_train)\n",
    "    tfidf_matrix_NMF_W_test = model.transform(tfidf_matrix_test)\n",
    "    tfidf_matrix_NMF_H_train = model.components_\n",
    "    \n",
    "    return tfidf_matrix_NMF_W_train, tfidf_matrix_NMF_W_test, tfidf_matrix_NMF_H_train\n"
   ]
  },
  {
   "cell_type": "code",
   "execution_count": null,
   "metadata": {
    "colab": {},
    "colab_type": "code",
    "id": "8akZLX7iJW2G"
   },
   "outputs": [],
   "source": [
    "W_train, W_test, H = NMF_processing(tfidf_matrix_train, tfidf_matrix_test)\n",
    "NMF_train_error = np.sum(np.array(tfidf_matrix_train - W_train.dot(H))**2)\n",
    "NMF_test_error = np.sum(np.array(tfidf_matrix_test - W_test.dot(H))**2)"
   ]
  },
  {
   "cell_type": "code",
   "execution_count": 16,
   "metadata": {
    "colab": {
     "base_uri": "https://localhost:8080/",
     "height": 50
    },
    "colab_type": "code",
    "id": "OijWJkqMbNVg",
    "outputId": "69269f8c-e4ea-4ff8-a840-257afe1d8c2d"
   },
   "outputs": [
    {
     "name": "stdout",
     "output_type": "stream",
     "text": [
      "NMF_train_error 4146.805754950223\n",
      "NMF_test_error 2840.8641423351537\n"
     ]
    }
   ],
   "source": [
    "print('NMF_train_error',NMF_train_error)\n",
    "print('NMF_test_error',NMF_test_error)"
   ]
  },
  {
   "cell_type": "markdown",
   "metadata": {
    "colab_type": "text",
    "id": "-tWFvE7L0X_i"
   },
   "source": [
    "**Q4**"
   ]
  },
  {
   "cell_type": "code",
   "execution_count": null,
   "metadata": {
    "colab": {},
    "colab_type": "code",
    "id": "nbtHssVlWLlZ"
   },
   "outputs": [],
   "source": [
    "#Match data and labels\n",
    "def label_generation(data):\n",
    "  y_train_label = []\n",
    "  for i in data:\n",
    "    if i <= 3:\n",
    "      y_train_label.append(-1)\n",
    "    else:\n",
    "      y_train_label.append(1)  \n",
    "  return y_train_label\n",
    "#1 stands for the rec, -1 stands for comp"
   ]
  },
  {
   "cell_type": "markdown",
   "metadata": {
    "colab_type": "text",
    "id": "iz4i4KUdPobY"
   },
   "source": [
    "The block below is to plot the ROC_curve and print some metrics information."
   ]
  },
  {
   "cell_type": "code",
   "execution_count": null,
   "metadata": {
    "colab": {},
    "colab_type": "code",
    "id": "gswpwpgJed8W"
   },
   "outputs": [],
   "source": [
    "#y_test_label is the true value of y, y_pred is the result of the model prediction, probs is the probability of test, which is computed by clf.predict_proba(Xtest)\n",
    "from sklearn.metrics import confusion_matrix,accuracy_score, f1_score, recall_score, precision_score\n",
    "def metricsPrint2All(y_test_label, y_pred, probs):\n",
    "#citation: this function is copied from website\n",
    "    def plot_roc_curve(fpr, tpr):\n",
    "        plt.plot(fpr, tpr, color='orange', label='ROC')\n",
    "        plt.plot([0, 1], [0, 1], color='darkblue', linestyle='--')\n",
    "        plt.xlabel('False Positive Rate')\n",
    "        plt.ylabel('True Positive Rate')\n",
    "        plt.title('Receiver Operating Characteristic (ROC) Curve')\n",
    "        plt.legend()\n",
    "        plt.show()\n",
    "    # probs = probs[:,1]\n",
    "    auc = roc_auc_score(y_test_label, probs)\n",
    "    print('AUC: %.2f' % auc)\n",
    "    fpr, tpr, thresholds = roc_curve(y_test_label, probs)\n",
    "    plot_roc_curve(fpr, tpr)\n",
    "    # confusion matrix plotting\n",
    "    cmArray = confusion_matrix(y_test_label, y_pred)\n",
    "    plt.imshow(cmArray, cmap = plt.cm.Greens, interpolation='nearest')\n",
    "    plt.title('Confusion Matrix')\n",
    "    y_tick = ['Class I \\n Actual','Class II \\n Actual']\n",
    "    x_tick = ['Class I \\n Predict','Class II \\n Predict']\n",
    "    tick_marks = np.arange(len(y_tick))\n",
    "    plt.xticks(tick_marks, x_tick, rotation = 45)\n",
    "    plt.yticks(tick_marks, y_tick)\n",
    "    plt.colorbar()\n",
    "    plt.show()\n",
    "    print('Confusion Matrix:', cmArray)\n",
    "    print('Accuracy %.3f' %accuracy_score(y_test_label, y_pred))\n",
    "    print('F1 score %.3f' %f1_score(y_test_label, y_pred))\n",
    "    print('Recall score %.3f' %recall_score(y_test_label, y_pred))\n",
    "    print('Precision score %.3f' %precision_score(y_test_label, y_pred) )"
   ]
  },
  {
   "cell_type": "code",
   "execution_count": null,
   "metadata": {
    "colab": {},
    "colab_type": "code",
    "id": "Eb-qaglK0X_m"
   },
   "outputs": [],
   "source": [
    "#y_test_label is the true value of y, y_pred is the result of the model prediction, probs is the probability of test, which is computed by clf.predict_proba(Xtest)\n",
    "from sklearn.metrics import confusion_matrix,accuracy_score, f1_score, recall_score, average_precision_score\n",
    "from sklearn.metrics import confusion_matrix,accuracy_score, f1_score, recall_score, precision_score\n",
    "def metricsPrintAll(y_test_label, y_pred, probs):\n",
    "#citation: this function is copied from website\n",
    "  def plot_roc_curve(fpr, tpr):\n",
    "      plt.plot(fpr, tpr, color='orange', label='ROC')\n",
    "      plt.plot([0, 1], [0, 1], color='darkblue', linestyle='--')\n",
    "      plt.xlabel('False Positive Rate')\n",
    "      plt.ylabel('True Positive Rate')\n",
    "      plt.title('Receiver Operating Characteristic (ROC) Curve')\n",
    "      plt.legend()\n",
    "      plt.show()\n",
    "  # probs = probs[:,1]\n",
    "  auc = roc_auc_score(y_test_label, probs)\n",
    "  print('AUC: %.2f' % auc)\n",
    "  fpr, tpr, thresholds = roc_curve(y_test_label, probs)\n",
    "  plot_roc_curve(fpr, tpr)\n",
    "  def metricsPrintAll4Classes(y_test_label, y_pred):\n",
    "    cmArray = confusion_matrix(y_test_label, y_pred)\n",
    "    plt.imshow(cmArray, cmap = plt.cm.Greens, interpolation='nearest')\n",
    "    plt.title('Confusion Matrix')\n",
    "    y_tick = ['Class I \\n Actual','Class II \\n Actual']\n",
    "    x_tick = ['Class I \\n Predict','Class II \\n Predict']\n",
    "    tick_marks = np.arange(len(y_tick))\n",
    "    plt.xticks(tick_marks, x_tick, rotation=45)\n",
    "    plt.yticks(tick_marks, y_tick)\n",
    "    plt.colorbar()\n",
    "    plt.show()\n",
    "    print('Confusion Matrix: \\n', cmArray)\n",
    "    print('Accuracy %.3f' %accuracy_score(y_test_label, y_pred))\n",
    "    print('F1 score %.3f' %f1_score(y_test_label, y_pred))\n",
    "    print('Recall score %.3f' %recall_score(y_test_label, y_pred))\n",
    "    print('Precision score %.3f' %precision_score(y_test_label, y_pred))\n",
    "  metricsPrintAll4Classes(y_test_label, y_pred)"
   ]
  },
  {
   "cell_type": "markdown",
   "metadata": {
    "colab_type": "text",
    "id": "Ch5GkwLwsLFG"
   },
   "source": [
    "Q4: SVM SoftMargin C = 0.0001"
   ]
  },
  {
   "cell_type": "code",
   "execution_count": null,
   "metadata": {
    "colab": {},
    "colab_type": "code",
    "id": "n2wxQBDYS4ou"
   },
   "outputs": [],
   "source": [
    "from sklearn.linear_model import LogisticRegression\n",
    "import matplotlib.pyplot as plt\n",
    "from sklearn.metrics import roc_curve\n",
    "from sklearn.metrics import roc_auc_score\n",
    "from sklearn.svm import LinearSVC\n",
    "y_train_label = label_generation(train_dataset.target)\n",
    "clf = LinearSVC(random_state=0, C=0.0001).fit(tfidf_matrix_LSI_train, y_train_label)\n",
    "# clf = svm.SVC().fit(tfidf_matrix_LSI_train, y_train_label)\n",
    "y_test_label = label_generation(test_dataset.target)\n",
    "#probability of prediction\n",
    "probs = clf.decision_function(tfidf_matrix_LSI_test)\n",
    "y_pred = clf.predict(tfidf_matrix_LSI_test)\n"
   ]
  },
  {
   "cell_type": "code",
   "execution_count": 21,
   "metadata": {
    "colab": {
     "base_uri": "https://localhost:8080/",
     "height": 34
    },
    "colab_type": "code",
    "id": "1UkhSiSAnn1r",
    "outputId": "afb7e611-c04d-4b27-eb47-80128dfdaa62"
   },
   "outputs": [
    {
     "name": "stdout",
     "output_type": "stream",
     "text": [
      "Accuracy 0.6711111111111111\n"
     ]
    }
   ],
   "source": [
    "print('Accuracy', accuracy_score(y_test_label, y_pred))"
   ]
  },
  {
   "cell_type": "code",
   "execution_count": 52,
   "metadata": {
    "colab": {
     "base_uri": "https://localhost:8080/",
     "height": 726
    },
    "colab_type": "code",
    "id": "0O5HFmBhW0_t",
    "outputId": "4b375d7c-4140-434c-f73f-7b63ef22d3cc"
   },
   "outputs": [
    {
     "name": "stdout",
     "output_type": "stream",
     "text": [
      "AUC: 0.99\n"
     ]
    },
    {
     "data": {
      "image/png": "[encoded data removed]",
      "text/plain": [
       "<Figure size 432x288 with 1 Axes>"
      ]
     },
     "metadata": {
      "tags": []
     },
     "output_type": "display_data"
    },
    {
     "data": {
      "image/png": "[encoded data removed]",
      "text/plain": [
       "<Figure size 432x288 with 2 Axes>"
      ]
     },
     "metadata": {
      "tags": []
     },
     "output_type": "display_data"
    },
    {
     "name": "stdout",
     "output_type": "stream",
     "text": [
      "Confusion Matrix: \n",
      " [[ 524 1036]\n",
      " [   0 1590]]\n",
      "Accuracy 0.671\n",
      "F1 score 0.754\n",
      "Recall score 1.000\n",
      "Precision score 0.605\n"
     ]
    }
   ],
   "source": [
    "metricsPrintAll(y_test_label, y_pred, probs)"
   ]
  },
  {
   "cell_type": "markdown",
   "metadata": {
    "colab_type": "text",
    "id": "cW9p57MysrBn"
   },
   "source": [
    "SVM soft margin C = 1000"
   ]
  },
  {
   "cell_type": "code",
   "execution_count": 50,
   "metadata": {
    "colab": {
     "base_uri": "https://localhost:8080/",
     "height": 726
    },
    "colab_type": "code",
    "id": "mc0BtwT9iZH4",
    "outputId": "2b1e1294-8e61-44b2-ab9d-1338e7f73bbd"
   },
   "outputs": [
    {
     "name": "stdout",
     "output_type": "stream",
     "text": [
      "AUC: 1.00\n"
     ]
    },
    {
     "data": {
      "image/png": "[encoded data removed]",
      "text/plain": [
       "<Figure size 432x288 with 1 Axes>"
      ]
     },
     "metadata": {
      "tags": []
     },
     "output_type": "display_data"
    },
    {
     "data": {
      "image/png": "[encoded data removed]",
      "text/plain": [
       "<Figure size 432x288 with 2 Axes>"
      ]
     },
     "metadata": {
      "tags": []
     },
     "output_type": "display_data"
    },
    {
     "name": "stdout",
     "output_type": "stream",
     "text": [
      "Confusion Matrix: \n",
      " [[1430  130]\n",
      " [  14 1576]]\n",
      "Accuracy 0.954\n",
      "F1 score 0.956\n",
      "Recall score 0.991\n",
      "Precision score 0.924\n"
     ]
    }
   ],
   "source": [
    "clf = LinearSVC(random_state=0, C=1000).fit(tfidf_matrix_LSI_train, y_train_label)\n",
    "probs = clf.decision_function(tfidf_matrix_LSI_test)\n",
    "y_pred = clf.predict(tfidf_matrix_LSI_test)\n",
    "metricsPrintAll(y_test_label, y_pred, probs)"
   ]
  },
  {
   "cell_type": "markdown",
   "metadata": {
    "colab_type": "text",
    "id": "ZU2LuccSvUKi"
   },
   "source": [
    "SVM C crossvalidation."
   ]
  },
  {
   "cell_type": "code",
   "execution_count": 49,
   "metadata": {
    "colab": {
     "base_uri": "https://localhost:8080/",
     "height": 34
    },
    "colab_type": "code",
    "id": "sZQPvSk3iwm5",
    "outputId": "5c883f57-9635-495b-85a1-1959943c2cf1"
   },
   "outputs": [
    {
     "name": "stdout",
     "output_type": "stream",
     "text": [
      "[0.9412509962471898, 0.9695676343008186, 0.971469489720515, 0.9752738703059176, 0.9769652022298076, 0.9756971497842303, 0.9640714752941859]\n"
     ]
    }
   ],
   "source": [
    "from sklearn import datasets, linear_model\n",
    "from sklearn.model_selection import cross_val_score\n",
    "\n",
    "cross_score = []\n",
    "for i in range(-3, 4):\n",
    "  clf = LinearSVC(random_state=0, C=10**i)\n",
    "  \n",
    "  cross_score.append(np.mean(cross_val_score(clf, X = tfidf_matrix_LSI_train, y = y_train_label, cv=5)))\n",
    "print(cross_score)\n",
    "\n"
   ]
  },
  {
   "cell_type": "markdown",
   "metadata": {
    "colab_type": "text",
    "id": "Ch3OiN3pyK76"
   },
   "source": [
    "SVM soft margin C = 10"
   ]
  },
  {
   "cell_type": "code",
   "execution_count": 25,
   "metadata": {
    "colab": {
     "base_uri": "https://localhost:8080/",
     "height": 726
    },
    "colab_type": "code",
    "id": "kTM8UsF7yNqZ",
    "outputId": "13a1db75-96c4-4186-e2e6-320cc219d7dd"
   },
   "outputs": [
    {
     "name": "stdout",
     "output_type": "stream",
     "text": [
      "AUC: 1.00\n"
     ]
    },
    {
     "data": {
      "image/png": "[encoded data removed]",
      "text/plain": [
       "<Figure size 432x288 with 1 Axes>"
      ]
     },
     "metadata": {
      "tags": []
     },
     "output_type": "display_data"
    },
    {
     "data": {
      "image/png": "[encoded data removed]",
      "text/plain": [
       "<Figure size 432x288 with 2 Axes>"
      ]
     },
     "metadata": {
      "tags": []
     },
     "output_type": "display_data"
    },
    {
     "name": "stdout",
     "output_type": "stream",
     "text": [
      "Confusion Matrix: \n",
      " [[1508   52]\n",
      " [  32 1558]]\n",
      "Accuracy 0.973\n",
      "F1 score 0.974\n",
      "Recall score 0.980\n",
      "Precision score 0.968\n"
     ]
    }
   ],
   "source": [
    "clf = LinearSVC(random_state=0, C=10).fit(tfidf_matrix_LSI_train, y_train_label)\n",
    "probs = clf.decision_function(tfidf_matrix_LSI_test)\n",
    "y_pred = clf.predict(tfidf_matrix_LSI_test)\n",
    "metricsPrintAll(y_test_label, y_pred, probs)"
   ]
  },
  {
   "cell_type": "markdown",
   "metadata": {
    "colab_type": "text",
    "id": "ASoiZ3HFyArS"
   },
   "source": [
    "**Q5 Logistic Regression**\n"
   ]
  },
  {
   "cell_type": "code",
   "execution_count": 26,
   "metadata": {
    "colab": {
     "base_uri": "https://localhost:8080/",
     "height": 726
    },
    "colab_type": "code",
    "id": "yprB_EsOycwb",
    "outputId": "9b70f9c2-e447-4eda-9445-bc3b8dcac46d"
   },
   "outputs": [
    {
     "name": "stdout",
     "output_type": "stream",
     "text": [
      "AUC: 1.00\n"
     ]
    },
    {
     "data": {
      "image/png": "[encoded data removed]",
      "text/plain": [
       "<Figure size 432x288 with 1 Axes>"
      ]
     },
     "metadata": {
      "tags": []
     },
     "output_type": "display_data"
    },
    {
     "data": {
      "image/png": "[encoded data removed]",
      "text/plain": [
       "<Figure size 432x288 with 2 Axes>"
      ]
     },
     "metadata": {
      "tags": []
     },
     "output_type": "display_data"
    },
    {
     "name": "stdout",
     "output_type": "stream",
     "text": [
      "Confusion Matrix: \n",
      " [[1507   53]\n",
      " [  32 1558]]\n",
      "Accuracy 0.973\n",
      "F1 score 0.973\n",
      "Recall score 0.980\n",
      "Precision score 0.967\n"
     ]
    }
   ],
   "source": [
    "from sklearn.linear_model import LogisticRegression\n",
    "clf = LogisticRegression(penalty='none',random_state=42, solver='lbfgs').fit(tfidf_matrix_LSI_train, y_train_label)\n",
    "probs = clf.predict_proba(tfidf_matrix_LSI_test)[:,1]\n",
    "y_pred = clf.predict(tfidf_matrix_LSI_test)\n",
    "metricsPrintAll(y_test_label, y_pred, probs)"
   ]
  },
  {
   "cell_type": "markdown",
   "metadata": {
    "colab_type": "text",
    "id": "nJNV-V8C3E1b"
   },
   "source": [
    "5fold cross validation to choose the best regularization strength with L1 regulation and L2 regulation respectively."
   ]
  },
  {
   "cell_type": "code",
   "execution_count": 27,
   "metadata": {
    "colab": {
     "base_uri": "https://localhost:8080/",
     "height": 50
    },
    "colab_type": "code",
    "id": "MClQ5HUKza6v",
    "outputId": "be2e05b9-7dad-4d8a-f069-6b0013315aa4"
   },
   "outputs": [
    {
     "name": "stdout",
     "output_type": "stream",
     "text": [
      "The best regularization strength with L1 is  0.1\n",
      "The best regularization strength with L2 is  0.01\n"
     ]
    }
   ],
   "source": [
    "from sklearn.linear_model import LogisticRegressionCV\n",
    "Cs_list = [1000, 100, 10, 1, 0.1, 0.01, 0.001]\n",
    "# L1\n",
    "clf_L1 = LogisticRegressionCV(cv=5, random_state=42, penalty='l1', Cs = Cs_list, solver='liblinear').fit(tfidf_matrix_LSI_train, y_train_label)\n",
    "scores_L1 = clf_L1.scores_\n",
    "scores_L1 = np.mean(scores_L1[1], axis = 0)\n",
    "L1_best_index = np.argmax(scores_L1)\n",
    "print(\"The best regularization strength with L1 is \", 1/Cs_list[L1_best_index])\n",
    "# L2\n",
    "clf_L2 = LogisticRegressionCV(cv=5, random_state=42, penalty='l2', Cs = Cs_list, solver='liblinear').fit(tfidf_matrix_LSI_train, y_train_label)\n",
    "scores_L2 = clf_L2.scores_\n",
    "scores_L2 = np.mean(scores_L2[1], axis = 0)\n",
    "L2_best_index = np.argmax(scores_L2)\n",
    "print(\"The best regularization strength with L2 is \", 1/Cs_list[L2_best_index])"
   ]
  },
  {
   "cell_type": "code",
   "execution_count": 28,
   "metadata": {
    "colab": {
     "base_uri": "https://localhost:8080/",
     "height": 295
    },
    "colab_type": "code",
    "id": "8SRDBNcUr_mS",
    "outputId": "d11f3cb5-a744-4063-9299-77f06937cf0b"
   },
   "outputs": [
    {
     "data": {
      "image/png": "[encoded data removed]",
      "text/plain": [
       "<Figure size 432x288 with 1 Axes>"
      ]
     },
     "metadata": {
      "tags": []
     },
     "output_type": "display_data"
    }
   ],
   "source": [
    "Cs_list = [1000, 100, 10, 1, 0.1, 0.01, 0.001]\n",
    "score_L1_2 = []\n",
    "score_L2_2 = []\n",
    "for i in Cs_list:\n",
    "  clf_L1_2 = LogisticRegressionCV(cv=5, random_state=42, penalty='l1', Cs=[i], solver='liblinear').fit(tfidf_matrix_LSI_train, y_train_label)\n",
    "  score_L1_2.append(clf_L1_2.score(tfidf_matrix_LSI_test, y_test_label))\n",
    "for i in Cs_list:\n",
    "  clf_L2_2 = LogisticRegressionCV(cv=5, random_state=42, penalty='l2', Cs=[i], solver='liblinear').fit(tfidf_matrix_LSI_train, y_train_label)\n",
    "  score_L2_2.append(clf_L2_2.score(tfidf_matrix_LSI_test, y_test_label))\n",
    "# calculate the test error rate\n",
    "plt.plot([-3,-2,-1,0,1,2,3], np.array([1,1,1,1,1,1,1])-np.asarray(score_L1_2), label='L1')\n",
    "plt.plot([-3,-2,-1,0,1,2,3], np.array([1,1,1,1,1,1,1])-np.asarray(score_L2_2), label='L2')\n",
    "plt.xlabel(\"log of Regularization Strength value\")\n",
    "plt.ylabel(\"Test Error\")\n",
    "plt.title(\"Test Error rate vs Regularization Strength\")\n",
    "plt.legend()\n",
    "plt.show()"
   ]
  },
  {
   "cell_type": "markdown",
   "metadata": {
    "colab_type": "text",
    "id": "5zvmRhQ03IHy"
   },
   "source": [
    "3 kinds of regularization comparison"
   ]
  },
  {
   "cell_type": "code",
   "execution_count": 29,
   "metadata": {
    "colab": {
     "base_uri": "https://localhost:8080/",
     "height": 2196
    },
    "colab_type": "code",
    "id": "H_3A4YzS1OGv",
    "outputId": "648407dd-a843-48df-fe21-daa7b64ac8a7"
   },
   "outputs": [
    {
     "name": "stdout",
     "output_type": "stream",
     "text": [
      "----------------------None-------------------\n",
      "AUC: 1.00\n"
     ]
    },
    {
     "data": {
      "image/png": "[encoded data removed]",
      "text/plain": [
       "<Figure size 432x288 with 1 Axes>"
      ]
     },
     "metadata": {
      "tags": []
     },
     "output_type": "display_data"
    },
    {
     "data": {
      "image/png": "[encoded data removed]",
      "text/plain": [
       "<Figure size 432x288 with 2 Axes>"
      ]
     },
     "metadata": {
      "tags": []
     },
     "output_type": "display_data"
    },
    {
     "name": "stdout",
     "output_type": "stream",
     "text": [
      "Confusion Matrix: \n",
      " [[1507   53]\n",
      " [  32 1558]]\n",
      "Accuracy 0.973\n",
      "F1 score 0.973\n",
      "Recall score 0.980\n",
      "Precision score 0.967\n",
      "----------------------l1-------------------\n",
      "AUC: 1.00\n"
     ]
    },
    {
     "data": {
      "image/png": "[encoded data removed]",
      "text/plain": [
       "<Figure size 432x288 with 1 Axes>"
      ]
     },
     "metadata": {
      "tags": []
     },
     "output_type": "display_data"
    },
    {
     "data": {
      "image/png": "[encoded data removed]",
      "text/plain": [
       "<Figure size 432x288 with 2 Axes>"
      ]
     },
     "metadata": {
      "tags": []
     },
     "output_type": "display_data"
    },
    {
     "name": "stdout",
     "output_type": "stream",
     "text": [
      "Confusion Matrix: \n",
      " [[1504   56]\n",
      " [  32 1558]]\n",
      "Accuracy 0.972\n",
      "F1 score 0.973\n",
      "Recall score 0.980\n",
      "Precision score 0.965\n",
      "----------------------l2-------------------\n",
      "AUC: 1.00\n"
     ]
    },
    {
     "data": {
      "image/png": "[encoded data removed]",
      "text/plain": [
       "<Figure size 432x288 with 1 Axes>"
      ]
     },
     "metadata": {
      "tags": []
     },
     "output_type": "display_data"
    },
    {
     "data": {
      "image/png": "[encoded data removed]",
      "text/plain": [
       "<Figure size 432x288 with 2 Axes>"
      ]
     },
     "metadata": {
      "tags": []
     },
     "output_type": "display_data"
    },
    {
     "name": "stdout",
     "output_type": "stream",
     "text": [
      "Confusion Matrix: \n",
      " [[1507   53]\n",
      " [  31 1559]]\n",
      "Accuracy 0.973\n",
      "F1 score 0.974\n",
      "Recall score 0.981\n",
      "Precision score 0.967\n"
     ]
    }
   ],
   "source": [
    "from sklearn.linear_model import LogisticRegression\n",
    "# without regularization\n",
    "print('----------------------None-------------------')\n",
    "clf_LR_Wo = LogisticRegression(penalty='none',solver='lbfgs').fit(tfidf_matrix_LSI_train, y_train_label)\n",
    "probs = clf_LR_Wo.predict_proba(tfidf_matrix_LSI_test)[:,1]\n",
    "y_pred = clf_LR_Wo.predict(tfidf_matrix_LSI_test)\n",
    "metricsPrintAll(y_test_label, y_pred, probs)\n",
    "# L1 regularization\n",
    "print('----------------------l1-------------------')\n",
    "clf_LR_L1 = LogisticRegression(C=10, penalty='l1', solver='liblinear').fit(tfidf_matrix_LSI_train, y_train_label)\n",
    "probs = clf_LR_L1.predict_proba(tfidf_matrix_LSI_test)[:,1]\n",
    "y_pred = clf_LR_L1.predict(tfidf_matrix_LSI_test)\n",
    "metricsPrintAll(y_test_label, y_pred, probs)\n",
    "# L2 regularization\n",
    "print('----------------------l2-------------------')\n",
    "clf_LR_L2 = LogisticRegression(C=100, penalty='l2', solver='liblinear').fit(tfidf_matrix_LSI_train, y_train_label)\n",
    "probs = clf_LR_L2.predict_proba(tfidf_matrix_LSI_test)[:,1]\n",
    "y_pred = clf_LR_L2.predict(tfidf_matrix_LSI_test)\n",
    "metricsPrintAll(y_test_label, y_pred, probs)"
   ]
  },
  {
   "cell_type": "markdown",
   "metadata": {
    "colab_type": "text",
    "id": "0IapUpJBcLn3"
   },
   "source": [
    "**Q6**"
   ]
  },
  {
   "cell_type": "code",
   "execution_count": null,
   "metadata": {
    "colab": {},
    "colab_type": "code",
    "id": "PqUcjqhKdK0I"
   },
   "outputs": [],
   "source": [
    "from sklearn.naive_bayes import GaussianNB\n",
    "from sklearn.linear_model import LogisticRegression\n",
    "import matplotlib.pyplot as plt\n",
    "from sklearn.metrics import roc_curve\n",
    "from sklearn.metrics import roc_auc_score\n",
    "from sklearn.svm import LinearSVC"
   ]
  },
  {
   "cell_type": "code",
   "execution_count": null,
   "metadata": {
    "colab": {},
    "colab_type": "code",
    "id": "MK3ji5FtcJQs"
   },
   "outputs": [],
   "source": [
    "train_label = train_dataset.target > 3 # 4,5,6,7是recreation类\n",
    "train_label = train_label.astype(int)\n",
    "test_label = test_dataset.target > 3 # 0,1,2,3是computer类\n",
    "test_label = test_label.astype(int)"
   ]
  },
  {
   "cell_type": "code",
   "execution_count": null,
   "metadata": {
    "colab": {},
    "colab_type": "code",
    "id": "6RpzVXr9dR-u"
   },
   "outputs": [],
   "source": [
    "NBclr = GaussianNB()\n",
    "NBclr.fit(tfidf_matrix_LSI_train, train_label)\n",
    "test_pred = NBclr.predict(tfidf_matrix_LSI_test)\n",
    "NB_scores_prob = NBclr.predict_proba(tfidf_matrix_LSI_test)[:, 1]"
   ]
  },
  {
   "cell_type": "code",
   "execution_count": 33,
   "metadata": {
    "colab": {
     "base_uri": "https://localhost:8080/",
     "height": 710
    },
    "colab_type": "code",
    "id": "uWv8L2OdeXoD",
    "outputId": "88f20e76-d3d0-4c80-9c5a-e97f42d78e75"
   },
   "outputs": [
    {
     "name": "stdout",
     "output_type": "stream",
     "text": [
      "AUC: 0.97\n"
     ]
    },
    {
     "data": {
      "image/png": "[encoded data removed]",
      "text/plain": [
       "<Figure size 432x288 with 1 Axes>"
      ]
     },
     "metadata": {
      "tags": []
     },
     "output_type": "display_data"
    },
    {
     "data": {
      "image/png": "[encoded data removed]",
      "text/plain": [
       "<Figure size 432x288 with 2 Axes>"
      ]
     },
     "metadata": {
      "tags": []
     },
     "output_type": "display_data"
    },
    {
     "name": "stdout",
     "output_type": "stream",
     "text": [
      "Confusion Matrix: [[1317  243]\n",
      " [  50 1540]]\n",
      "Accuracy 0.907\n",
      "F1 score 0.913\n",
      "Recall score 0.969\n",
      "Precision score 0.864\n"
     ]
    }
   ],
   "source": [
    "metricsPrint2All(test_label, test_pred, NB_scores_prob)"
   ]
  },
  {
   "cell_type": "markdown",
   "metadata": {
    "colab_type": "text",
    "id": "EJs4unv70YAI"
   },
   "source": [
    "**Q7**"
   ]
  },
  {
   "cell_type": "code",
   "execution_count": null,
   "metadata": {
    "colab": {},
    "colab_type": "code",
    "id": "ecUyIHteHeF3",
    "outputId": "c14b67c9-06c1-4b13-a893-2a19d0b6b6d0"
   },
   "outputs": [
    {
     "data": {
      "text/html": [
       "<div>\n",
       "<style scoped>\n",
       "    .dataframe tbody tr th:only-of-type {\n",
       "        vertical-align: middle;\n",
       "    }\n",
       "\n",
       "    .dataframe tbody tr th {\n",
       "        vertical-align: top;\n",
       "    }\n",
       "\n",
       "    .dataframe thead th {\n",
       "        text-align: right;\n",
       "    }\n",
       "</style>\n",
       "<table border=\"1\" class=\"dataframe\">\n",
       "  <thead>\n",
       "    <tr style=\"text-align: right;\">\n",
       "      <th></th>\n",
       "      <th>mean_fit_time</th>\n",
       "      <th>std_fit_time</th>\n",
       "      <th>mean_score_time</th>\n",
       "      <th>std_score_time</th>\n",
       "      <th>param_classify</th>\n",
       "      <th>param_reduce_dim</th>\n",
       "      <th>param_reduce_dim__n_components</th>\n",
       "      <th>param_vector__min_df</th>\n",
       "      <th>params</th>\n",
       "      <th>split0_test_score</th>\n",
       "      <th>split1_test_score</th>\n",
       "      <th>split2_test_score</th>\n",
       "      <th>split3_test_score</th>\n",
       "      <th>split4_test_score</th>\n",
       "      <th>mean_test_score</th>\n",
       "      <th>std_test_score</th>\n",
       "      <th>rank_test_score</th>\n",
       "    </tr>\n",
       "  </thead>\n",
       "  <tbody>\n",
       "    <tr>\n",
       "      <td>0</td>\n",
       "      <td>48.317801</td>\n",
       "      <td>2.974696</td>\n",
       "      <td>11.867992</td>\n",
       "      <td>0.896139</td>\n",
       "      <td>LinearSVC(C=10, class_weight=None, dual=True, ...</td>\n",
       "      <td>TruncatedSVD(algorithm='randomized', n_compone...</td>\n",
       "      <td>50</td>\n",
       "      <td>3</td>\n",
       "      <td>{'classify': LinearSVC(C=10, class_weight=None...</td>\n",
       "      <td>0.972545</td>\n",
       "      <td>0.973601</td>\n",
       "      <td>0.971489</td>\n",
       "      <td>0.974630</td>\n",
       "      <td>0.976720</td>\n",
       "      <td>0.973795</td>\n",
       "      <td>0.001798</td>\n",
       "      <td>6</td>\n",
       "    </tr>\n",
       "    <tr>\n",
       "      <td>1</td>\n",
       "      <td>50.028594</td>\n",
       "      <td>1.447899</td>\n",
       "      <td>12.087153</td>\n",
       "      <td>1.284585</td>\n",
       "      <td>LinearSVC(C=10, class_weight=None, dual=True, ...</td>\n",
       "      <td>TruncatedSVD(algorithm='randomized', n_compone...</td>\n",
       "      <td>50</td>\n",
       "      <td>5</td>\n",
       "      <td>{'classify': LinearSVC(C=10, class_weight=None...</td>\n",
       "      <td>0.969377</td>\n",
       "      <td>0.975713</td>\n",
       "      <td>0.975713</td>\n",
       "      <td>0.972516</td>\n",
       "      <td>0.976720</td>\n",
       "      <td>0.974007</td>\n",
       "      <td>0.002715</td>\n",
       "      <td>5</td>\n",
       "    </tr>\n",
       "    <tr>\n",
       "      <td>2</td>\n",
       "      <td>56.578375</td>\n",
       "      <td>2.544255</td>\n",
       "      <td>11.509090</td>\n",
       "      <td>0.592143</td>\n",
       "      <td>LinearSVC(C=10, class_weight=None, dual=True, ...</td>\n",
       "      <td>NMF(alpha=0.0, beta_loss='frobenius', init='ra...</td>\n",
       "      <td>50</td>\n",
       "      <td>3</td>\n",
       "      <td>{'classify': LinearSVC(C=10, class_weight=None...</td>\n",
       "      <td>0.972545</td>\n",
       "      <td>0.965153</td>\n",
       "      <td>0.966209</td>\n",
       "      <td>0.968288</td>\n",
       "      <td>0.970370</td>\n",
       "      <td>0.968512</td>\n",
       "      <td>0.002697</td>\n",
       "      <td>9</td>\n",
       "    </tr>\n",
       "    <tr>\n",
       "      <td>3</td>\n",
       "      <td>62.779658</td>\n",
       "      <td>3.924687</td>\n",
       "      <td>13.395586</td>\n",
       "      <td>1.800534</td>\n",
       "      <td>LinearSVC(C=10, class_weight=None, dual=True, ...</td>\n",
       "      <td>NMF(alpha=0.0, beta_loss='frobenius', init='ra...</td>\n",
       "      <td>50</td>\n",
       "      <td>5</td>\n",
       "      <td>{'classify': LinearSVC(C=10, class_weight=None...</td>\n",
       "      <td>0.965153</td>\n",
       "      <td>0.969377</td>\n",
       "      <td>0.963041</td>\n",
       "      <td>0.963002</td>\n",
       "      <td>0.972487</td>\n",
       "      <td>0.966610</td>\n",
       "      <td>0.003742</td>\n",
       "      <td>11</td>\n",
       "    </tr>\n",
       "    <tr>\n",
       "      <td>4</td>\n",
       "      <td>47.530949</td>\n",
       "      <td>1.787481</td>\n",
       "      <td>12.029757</td>\n",
       "      <td>0.780499</td>\n",
       "      <td>LogisticRegression(C=10, class_weight=None, du...</td>\n",
       "      <td>TruncatedSVD(algorithm='randomized', n_compone...</td>\n",
       "      <td>50</td>\n",
       "      <td>3</td>\n",
       "      <td>{'classify': LogisticRegression(C=10, class_we...</td>\n",
       "      <td>0.972545</td>\n",
       "      <td>0.975713</td>\n",
       "      <td>0.977825</td>\n",
       "      <td>0.975687</td>\n",
       "      <td>0.978836</td>\n",
       "      <td>0.976120</td>\n",
       "      <td>0.002164</td>\n",
       "      <td>1</td>\n",
       "    </tr>\n",
       "    <tr>\n",
       "      <td>5</td>\n",
       "      <td>45.944997</td>\n",
       "      <td>0.488322</td>\n",
       "      <td>11.304754</td>\n",
       "      <td>0.680874</td>\n",
       "      <td>LogisticRegression(C=10, class_weight=None, du...</td>\n",
       "      <td>TruncatedSVD(algorithm='randomized', n_compone...</td>\n",
       "      <td>50</td>\n",
       "      <td>5</td>\n",
       "      <td>{'classify': LogisticRegression(C=10, class_we...</td>\n",
       "      <td>0.970433</td>\n",
       "      <td>0.973601</td>\n",
       "      <td>0.977825</td>\n",
       "      <td>0.974630</td>\n",
       "      <td>0.978836</td>\n",
       "      <td>0.975063</td>\n",
       "      <td>0.003021</td>\n",
       "      <td>2</td>\n",
       "    </tr>\n",
       "    <tr>\n",
       "      <td>6</td>\n",
       "      <td>59.737637</td>\n",
       "      <td>1.299051</td>\n",
       "      <td>11.854129</td>\n",
       "      <td>0.558143</td>\n",
       "      <td>LogisticRegression(C=10, class_weight=None, du...</td>\n",
       "      <td>NMF(alpha=0.0, beta_loss='frobenius', init='ra...</td>\n",
       "      <td>50</td>\n",
       "      <td>3</td>\n",
       "      <td>{'classify': LogisticRegression(C=10, class_we...</td>\n",
       "      <td>0.970433</td>\n",
       "      <td>0.971489</td>\n",
       "      <td>0.969377</td>\n",
       "      <td>0.964059</td>\n",
       "      <td>0.974603</td>\n",
       "      <td>0.969992</td>\n",
       "      <td>0.003442</td>\n",
       "      <td>8</td>\n",
       "    </tr>\n",
       "    <tr>\n",
       "      <td>7</td>\n",
       "      <td>60.170671</td>\n",
       "      <td>2.303011</td>\n",
       "      <td>12.152698</td>\n",
       "      <td>0.732368</td>\n",
       "      <td>LogisticRegression(C=10, class_weight=None, du...</td>\n",
       "      <td>NMF(alpha=0.0, beta_loss='frobenius', init='ra...</td>\n",
       "      <td>50</td>\n",
       "      <td>5</td>\n",
       "      <td>{'classify': LogisticRegression(C=10, class_we...</td>\n",
       "      <td>0.967265</td>\n",
       "      <td>0.974657</td>\n",
       "      <td>0.971489</td>\n",
       "      <td>0.966173</td>\n",
       "      <td>0.976720</td>\n",
       "      <td>0.971260</td>\n",
       "      <td>0.004079</td>\n",
       "      <td>7</td>\n",
       "    </tr>\n",
       "    <tr>\n",
       "      <td>8</td>\n",
       "      <td>46.695940</td>\n",
       "      <td>0.525966</td>\n",
       "      <td>11.748805</td>\n",
       "      <td>0.677987</td>\n",
       "      <td>LogisticRegression(C=100, class_weight=None, d...</td>\n",
       "      <td>TruncatedSVD(algorithm='randomized', n_compone...</td>\n",
       "      <td>50</td>\n",
       "      <td>3</td>\n",
       "      <td>{'classify': LogisticRegression(C=100, class_w...</td>\n",
       "      <td>0.971489</td>\n",
       "      <td>0.975713</td>\n",
       "      <td>0.973601</td>\n",
       "      <td>0.975687</td>\n",
       "      <td>0.977778</td>\n",
       "      <td>0.974852</td>\n",
       "      <td>0.002139</td>\n",
       "      <td>3</td>\n",
       "    </tr>\n",
       "    <tr>\n",
       "      <td>9</td>\n",
       "      <td>50.540222</td>\n",
       "      <td>1.985290</td>\n",
       "      <td>13.629413</td>\n",
       "      <td>1.967213</td>\n",
       "      <td>LogisticRegression(C=100, class_weight=None, d...</td>\n",
       "      <td>TruncatedSVD(algorithm='randomized', n_compone...</td>\n",
       "      <td>50</td>\n",
       "      <td>5</td>\n",
       "      <td>{'classify': LogisticRegression(C=100, class_w...</td>\n",
       "      <td>0.971489</td>\n",
       "      <td>0.975713</td>\n",
       "      <td>0.975713</td>\n",
       "      <td>0.973573</td>\n",
       "      <td>0.976720</td>\n",
       "      <td>0.974641</td>\n",
       "      <td>0.001881</td>\n",
       "      <td>4</td>\n",
       "    </tr>\n",
       "    <tr>\n",
       "      <td>10</td>\n",
       "      <td>65.767432</td>\n",
       "      <td>1.832835</td>\n",
       "      <td>14.015895</td>\n",
       "      <td>1.775761</td>\n",
       "      <td>LogisticRegression(C=100, class_weight=None, d...</td>\n",
       "      <td>NMF(alpha=0.0, beta_loss='frobenius', init='ra...</td>\n",
       "      <td>50</td>\n",
       "      <td>3</td>\n",
       "      <td>{'classify': LogisticRegression(C=100, class_w...</td>\n",
       "      <td>0.970433</td>\n",
       "      <td>0.961985</td>\n",
       "      <td>0.965153</td>\n",
       "      <td>0.968288</td>\n",
       "      <td>0.970370</td>\n",
       "      <td>0.967244</td>\n",
       "      <td>0.003258</td>\n",
       "      <td>10</td>\n",
       "    </tr>\n",
       "    <tr>\n",
       "      <td>11</td>\n",
       "      <td>64.449914</td>\n",
       "      <td>2.298619</td>\n",
       "      <td>13.504289</td>\n",
       "      <td>0.931612</td>\n",
       "      <td>LogisticRegression(C=100, class_weight=None, d...</td>\n",
       "      <td>NMF(alpha=0.0, beta_loss='frobenius', init='ra...</td>\n",
       "      <td>50</td>\n",
       "      <td>5</td>\n",
       "      <td>{'classify': LogisticRegression(C=100, class_w...</td>\n",
       "      <td>0.966209</td>\n",
       "      <td>0.969377</td>\n",
       "      <td>0.964097</td>\n",
       "      <td>0.960888</td>\n",
       "      <td>0.970370</td>\n",
       "      <td>0.966188</td>\n",
       "      <td>0.003467</td>\n",
       "      <td>12</td>\n",
       "    </tr>\n",
       "    <tr>\n",
       "      <td>12</td>\n",
       "      <td>54.896460</td>\n",
       "      <td>1.731550</td>\n",
       "      <td>13.307483</td>\n",
       "      <td>1.070157</td>\n",
       "      <td>GaussianNB(priors=None, var_smoothing=1e-09)</td>\n",
       "      <td>TruncatedSVD(algorithm='randomized', n_compone...</td>\n",
       "      <td>50</td>\n",
       "      <td>3</td>\n",
       "      <td>{'classify': GaussianNB(priors=None, var_smoot...</td>\n",
       "      <td>0.932418</td>\n",
       "      <td>0.915523</td>\n",
       "      <td>0.875396</td>\n",
       "      <td>0.884778</td>\n",
       "      <td>0.928042</td>\n",
       "      <td>0.907227</td>\n",
       "      <td>0.023040</td>\n",
       "      <td>15</td>\n",
       "    </tr>\n",
       "    <tr>\n",
       "      <td>13</td>\n",
       "      <td>56.746305</td>\n",
       "      <td>2.014165</td>\n",
       "      <td>13.321683</td>\n",
       "      <td>0.772994</td>\n",
       "      <td>GaussianNB(priors=None, var_smoothing=1e-09)</td>\n",
       "      <td>TruncatedSVD(algorithm='randomized', n_compone...</td>\n",
       "      <td>50</td>\n",
       "      <td>5</td>\n",
       "      <td>{'classify': GaussianNB(priors=None, var_smoot...</td>\n",
       "      <td>0.939810</td>\n",
       "      <td>0.888068</td>\n",
       "      <td>0.890180</td>\n",
       "      <td>0.859408</td>\n",
       "      <td>0.932275</td>\n",
       "      <td>0.901944</td>\n",
       "      <td>0.029977</td>\n",
       "      <td>16</td>\n",
       "    </tr>\n",
       "    <tr>\n",
       "      <td>14</td>\n",
       "      <td>63.992250</td>\n",
       "      <td>5.099843</td>\n",
       "      <td>12.655998</td>\n",
       "      <td>0.781442</td>\n",
       "      <td>GaussianNB(priors=None, var_smoothing=1e-09)</td>\n",
       "      <td>NMF(alpha=0.0, beta_loss='frobenius', init='ra...</td>\n",
       "      <td>50</td>\n",
       "      <td>3</td>\n",
       "      <td>{'classify': GaussianNB(priors=None, var_smoot...</td>\n",
       "      <td>0.955649</td>\n",
       "      <td>0.954593</td>\n",
       "      <td>0.942978</td>\n",
       "      <td>0.945032</td>\n",
       "      <td>0.955556</td>\n",
       "      <td>0.950761</td>\n",
       "      <td>0.005568</td>\n",
       "      <td>13</td>\n",
       "    </tr>\n",
       "    <tr>\n",
       "      <td>15</td>\n",
       "      <td>57.685403</td>\n",
       "      <td>1.379863</td>\n",
       "      <td>11.634601</td>\n",
       "      <td>0.619391</td>\n",
       "      <td>GaussianNB(priors=None, var_smoothing=1e-09)</td>\n",
       "      <td>NMF(alpha=0.0, beta_loss='frobenius', init='ra...</td>\n",
       "      <td>50</td>\n",
       "      <td>5</td>\n",
       "      <td>{'classify': GaussianNB(priors=None, var_smoot...</td>\n",
       "      <td>0.949314</td>\n",
       "      <td>0.956705</td>\n",
       "      <td>0.942978</td>\n",
       "      <td>0.938689</td>\n",
       "      <td>0.940741</td>\n",
       "      <td>0.945689</td>\n",
       "      <td>0.006563</td>\n",
       "      <td>14</td>\n",
       "    </tr>\n",
       "  </tbody>\n",
       "</table>\n",
       "</div>"
      ],
      "text/plain": [
       "    mean_fit_time  std_fit_time  mean_score_time  std_score_time  \\\n",
       "0       48.317801      2.974696        11.867992        0.896139   \n",
       "1       50.028594      1.447899        12.087153        1.284585   \n",
       "2       56.578375      2.544255        11.509090        0.592143   \n",
       "3       62.779658      3.924687        13.395586        1.800534   \n",
       "4       47.530949      1.787481        12.029757        0.780499   \n",
       "5       45.944997      0.488322        11.304754        0.680874   \n",
       "6       59.737637      1.299051        11.854129        0.558143   \n",
       "7       60.170671      2.303011        12.152698        0.732368   \n",
       "8       46.695940      0.525966        11.748805        0.677987   \n",
       "9       50.540222      1.985290        13.629413        1.967213   \n",
       "10      65.767432      1.832835        14.015895        1.775761   \n",
       "11      64.449914      2.298619        13.504289        0.931612   \n",
       "12      54.896460      1.731550        13.307483        1.070157   \n",
       "13      56.746305      2.014165        13.321683        0.772994   \n",
       "14      63.992250      5.099843        12.655998        0.781442   \n",
       "15      57.685403      1.379863        11.634601        0.619391   \n",
       "\n",
       "                                       param_classify  \\\n",
       "0   LinearSVC(C=10, class_weight=None, dual=True, ...   \n",
       "1   LinearSVC(C=10, class_weight=None, dual=True, ...   \n",
       "2   LinearSVC(C=10, class_weight=None, dual=True, ...   \n",
       "3   LinearSVC(C=10, class_weight=None, dual=True, ...   \n",
       "4   LogisticRegression(C=10, class_weight=None, du...   \n",
       "5   LogisticRegression(C=10, class_weight=None, du...   \n",
       "6   LogisticRegression(C=10, class_weight=None, du...   \n",
       "7   LogisticRegression(C=10, class_weight=None, du...   \n",
       "8   LogisticRegression(C=100, class_weight=None, d...   \n",
       "9   LogisticRegression(C=100, class_weight=None, d...   \n",
       "10  LogisticRegression(C=100, class_weight=None, d...   \n",
       "11  LogisticRegression(C=100, class_weight=None, d...   \n",
       "12       GaussianNB(priors=None, var_smoothing=1e-09)   \n",
       "13       GaussianNB(priors=None, var_smoothing=1e-09)   \n",
       "14       GaussianNB(priors=None, var_smoothing=1e-09)   \n",
       "15       GaussianNB(priors=None, var_smoothing=1e-09)   \n",
       "\n",
       "                                     param_reduce_dim  \\\n",
       "0   TruncatedSVD(algorithm='randomized', n_compone...   \n",
       "1   TruncatedSVD(algorithm='randomized', n_compone...   \n",
       "2   NMF(alpha=0.0, beta_loss='frobenius', init='ra...   \n",
       "3   NMF(alpha=0.0, beta_loss='frobenius', init='ra...   \n",
       "4   TruncatedSVD(algorithm='randomized', n_compone...   \n",
       "5   TruncatedSVD(algorithm='randomized', n_compone...   \n",
       "6   NMF(alpha=0.0, beta_loss='frobenius', init='ra...   \n",
       "7   NMF(alpha=0.0, beta_loss='frobenius', init='ra...   \n",
       "8   TruncatedSVD(algorithm='randomized', n_compone...   \n",
       "9   TruncatedSVD(algorithm='randomized', n_compone...   \n",
       "10  NMF(alpha=0.0, beta_loss='frobenius', init='ra...   \n",
       "11  NMF(alpha=0.0, beta_loss='frobenius', init='ra...   \n",
       "12  TruncatedSVD(algorithm='randomized', n_compone...   \n",
       "13  TruncatedSVD(algorithm='randomized', n_compone...   \n",
       "14  NMF(alpha=0.0, beta_loss='frobenius', init='ra...   \n",
       "15  NMF(alpha=0.0, beta_loss='frobenius', init='ra...   \n",
       "\n",
       "   param_reduce_dim__n_components param_vector__min_df  \\\n",
       "0                              50                    3   \n",
       "1                              50                    5   \n",
       "2                              50                    3   \n",
       "3                              50                    5   \n",
       "4                              50                    3   \n",
       "5                              50                    5   \n",
       "6                              50                    3   \n",
       "7                              50                    5   \n",
       "8                              50                    3   \n",
       "9                              50                    5   \n",
       "10                             50                    3   \n",
       "11                             50                    5   \n",
       "12                             50                    3   \n",
       "13                             50                    5   \n",
       "14                             50                    3   \n",
       "15                             50                    5   \n",
       "\n",
       "                                               params  split0_test_score  \\\n",
       "0   {'classify': LinearSVC(C=10, class_weight=None...           0.972545   \n",
       "1   {'classify': LinearSVC(C=10, class_weight=None...           0.969377   \n",
       "2   {'classify': LinearSVC(C=10, class_weight=None...           0.972545   \n",
       "3   {'classify': LinearSVC(C=10, class_weight=None...           0.965153   \n",
       "4   {'classify': LogisticRegression(C=10, class_we...           0.972545   \n",
       "5   {'classify': LogisticRegression(C=10, class_we...           0.970433   \n",
       "6   {'classify': LogisticRegression(C=10, class_we...           0.970433   \n",
       "7   {'classify': LogisticRegression(C=10, class_we...           0.967265   \n",
       "8   {'classify': LogisticRegression(C=100, class_w...           0.971489   \n",
       "9   {'classify': LogisticRegression(C=100, class_w...           0.971489   \n",
       "10  {'classify': LogisticRegression(C=100, class_w...           0.970433   \n",
       "11  {'classify': LogisticRegression(C=100, class_w...           0.966209   \n",
       "12  {'classify': GaussianNB(priors=None, var_smoot...           0.932418   \n",
       "13  {'classify': GaussianNB(priors=None, var_smoot...           0.939810   \n",
       "14  {'classify': GaussianNB(priors=None, var_smoot...           0.955649   \n",
       "15  {'classify': GaussianNB(priors=None, var_smoot...           0.949314   \n",
       "\n",
       "    split1_test_score  split2_test_score  split3_test_score  \\\n",
       "0            0.973601           0.971489           0.974630   \n",
       "1            0.975713           0.975713           0.972516   \n",
       "2            0.965153           0.966209           0.968288   \n",
       "3            0.969377           0.963041           0.963002   \n",
       "4            0.975713           0.977825           0.975687   \n",
       "5            0.973601           0.977825           0.974630   \n",
       "6            0.971489           0.969377           0.964059   \n",
       "7            0.974657           0.971489           0.966173   \n",
       "8            0.975713           0.973601           0.975687   \n",
       "9            0.975713           0.975713           0.973573   \n",
       "10           0.961985           0.965153           0.968288   \n",
       "11           0.969377           0.964097           0.960888   \n",
       "12           0.915523           0.875396           0.884778   \n",
       "13           0.888068           0.890180           0.859408   \n",
       "14           0.954593           0.942978           0.945032   \n",
       "15           0.956705           0.942978           0.938689   \n",
       "\n",
       "    split4_test_score  mean_test_score  std_test_score  rank_test_score  \n",
       "0            0.976720         0.973795        0.001798                6  \n",
       "1            0.976720         0.974007        0.002715                5  \n",
       "2            0.970370         0.968512        0.002697                9  \n",
       "3            0.972487         0.966610        0.003742               11  \n",
       "4            0.978836         0.976120        0.002164                1  \n",
       "5            0.978836         0.975063        0.003021                2  \n",
       "6            0.974603         0.969992        0.003442                8  \n",
       "7            0.976720         0.971260        0.004079                7  \n",
       "8            0.977778         0.974852        0.002139                3  \n",
       "9            0.976720         0.974641        0.001881                4  \n",
       "10           0.970370         0.967244        0.003258               10  \n",
       "11           0.970370         0.966188        0.003467               12  \n",
       "12           0.928042         0.907227        0.023040               15  \n",
       "13           0.932275         0.901944        0.029977               16  \n",
       "14           0.955556         0.950761        0.005568               13  \n",
       "15           0.940741         0.945689        0.006563               14  "
      ]
     },
     "execution_count": 30,
     "metadata": {
      "tags": []
     },
     "output_type": "execute_result"
    }
   ],
   "source": [
    "from sklearn.pipeline import Pipeline\n",
    "from sklearn.model_selection import GridSearchCV\n",
    "\n",
    "N_FEATURES_OPTIONS = [50]\n",
    "C_OPTIONS = [0.0001, 1000]\n",
    "\n",
    "pipeline_grid = Pipeline([\n",
    "    ('vector', CountVectorizer(analyzer = lemmatized_remove_num, min_df = 3)),\n",
    "    ('tf-idf', TfidfTransformer()),\n",
    "    ('reduce_dim', TruncatedSVD(n_components=50, random_state=42)),\n",
    "    ('classify',LinearSVC())\n",
    "])\n",
    "\n",
    "param_grid = [ \n",
    "    {\n",
    "        \n",
    "        'vector__min_df': [3, 5],\n",
    "        'reduce_dim': [TruncatedSVD(n_components=50, random_state=42), NMF(n_components=50, init='random', random_state=42)],\n",
    "        'reduce_dim__n_components': N_FEATURES_OPTIONS,\n",
    "        'classify': [LinearSVC(C=10), \n",
    "                LogisticRegression(random_state=0, penalty='l1', solver='liblinear', C=10), \n",
    "                LogisticRegression(random_state=0, penalty='l2', solver='liblinear', C=100), \n",
    "                GaussianNB()\n",
    "                ]\n",
    "        # 'classify__C': C_OPTIONS\n",
    "    }\n",
    "]\n",
    "\n",
    "import pandas as pd\n",
    "\n",
    "# grid = GridSearchCV(pipeline_grid, cv=2, n_jobs=1, param_grid=param_grid, scoring=make_scorer(my_score, greater_is_better=True, needs_proba=True))\n",
    "grid = GridSearchCV(pipeline_grid, cv=5, n_jobs=1, param_grid=param_grid, scoring='accuracy')\n",
    "grid.fit(train_dataset.data, y_train_label)\n",
    "pd.DataFrame(grid.cv_results_)"
   ]
  },
  {
   "cell_type": "code",
   "execution_count": null,
   "metadata": {
    "colab": {},
    "colab_type": "code",
    "id": "08ctXDwM0YAK"
   },
   "outputs": [],
   "source": [
    "train_dataset = fetch_20newsgroups(subset = 'train', categories = categories, shuffle = True, random_state = 42,remove=('headers', 'footers'))\n",
    "test_dataset = fetch_20newsgroups(subset = 'test', categories = categories, shuffle = True, random_state = 42, remove=('headers', 'footers'))\n"
   ]
  },
  {
   "cell_type": "code",
   "execution_count": null,
   "metadata": {
    "colab": {},
    "colab_type": "code",
    "id": "-5d63UlM0YAM",
    "outputId": "152deab4-8e6b-4642-c202-4248cb92d422"
   },
   "outputs": [
    {
     "data": {
      "text/html": [
       "<div>\n",
       "<style scoped>\n",
       "    .dataframe tbody tr th:only-of-type {\n",
       "        vertical-align: middle;\n",
       "    }\n",
       "\n",
       "    .dataframe tbody tr th {\n",
       "        vertical-align: top;\n",
       "    }\n",
       "\n",
       "    .dataframe thead th {\n",
       "        text-align: right;\n",
       "    }\n",
       "</style>\n",
       "<table border=\"1\" class=\"dataframe\">\n",
       "  <thead>\n",
       "    <tr style=\"text-align: right;\">\n",
       "      <th></th>\n",
       "      <th>mean_fit_time</th>\n",
       "      <th>std_fit_time</th>\n",
       "      <th>mean_score_time</th>\n",
       "      <th>std_score_time</th>\n",
       "      <th>param_classify</th>\n",
       "      <th>param_reduce_dim</th>\n",
       "      <th>param_reduce_dim__n_components</th>\n",
       "      <th>param_vector__min_df</th>\n",
       "      <th>params</th>\n",
       "      <th>split0_test_score</th>\n",
       "      <th>split1_test_score</th>\n",
       "      <th>split2_test_score</th>\n",
       "      <th>split3_test_score</th>\n",
       "      <th>split4_test_score</th>\n",
       "      <th>mean_test_score</th>\n",
       "      <th>std_test_score</th>\n",
       "      <th>rank_test_score</th>\n",
       "    </tr>\n",
       "  </thead>\n",
       "  <tbody>\n",
       "    <tr>\n",
       "      <td>0</td>\n",
       "      <td>40.688131</td>\n",
       "      <td>2.115553</td>\n",
       "      <td>10.160943</td>\n",
       "      <td>1.185513</td>\n",
       "      <td>LinearSVC(C=10, class_weight=None, dual=True, ...</td>\n",
       "      <td>TruncatedSVD(algorithm='randomized', n_compone...</td>\n",
       "      <td>50</td>\n",
       "      <td>3</td>\n",
       "      <td>{'classify': LinearSVC(C=10, class_weight=None...</td>\n",
       "      <td>0.959873</td>\n",
       "      <td>0.972545</td>\n",
       "      <td>0.966209</td>\n",
       "      <td>0.960888</td>\n",
       "      <td>0.970370</td>\n",
       "      <td>0.965976</td>\n",
       "      <td>0.005013</td>\n",
       "      <td>7</td>\n",
       "    </tr>\n",
       "    <tr>\n",
       "      <td>1</td>\n",
       "      <td>38.414668</td>\n",
       "      <td>1.332192</td>\n",
       "      <td>9.440266</td>\n",
       "      <td>0.665080</td>\n",
       "      <td>LinearSVC(C=10, class_weight=None, dual=True, ...</td>\n",
       "      <td>TruncatedSVD(algorithm='randomized', n_compone...</td>\n",
       "      <td>50</td>\n",
       "      <td>5</td>\n",
       "      <td>{'classify': LinearSVC(C=10, class_weight=None...</td>\n",
       "      <td>0.963041</td>\n",
       "      <td>0.973601</td>\n",
       "      <td>0.967265</td>\n",
       "      <td>0.958774</td>\n",
       "      <td>0.970370</td>\n",
       "      <td>0.966610</td>\n",
       "      <td>0.005246</td>\n",
       "      <td>4</td>\n",
       "    </tr>\n",
       "    <tr>\n",
       "      <td>2</td>\n",
       "      <td>54.626007</td>\n",
       "      <td>1.604888</td>\n",
       "      <td>10.719662</td>\n",
       "      <td>0.802512</td>\n",
       "      <td>LinearSVC(C=10, class_weight=None, dual=True, ...</td>\n",
       "      <td>NMF(alpha=0.0, beta_loss='frobenius', init='ra...</td>\n",
       "      <td>50</td>\n",
       "      <td>3</td>\n",
       "      <td>{'classify': LinearSVC(C=10, class_weight=None...</td>\n",
       "      <td>0.950370</td>\n",
       "      <td>0.967265</td>\n",
       "      <td>0.958817</td>\n",
       "      <td>0.956660</td>\n",
       "      <td>0.968254</td>\n",
       "      <td>0.960270</td>\n",
       "      <td>0.006721</td>\n",
       "      <td>11</td>\n",
       "    </tr>\n",
       "    <tr>\n",
       "      <td>3</td>\n",
       "      <td>47.136935</td>\n",
       "      <td>1.969215</td>\n",
       "      <td>9.387882</td>\n",
       "      <td>0.567306</td>\n",
       "      <td>LinearSVC(C=10, class_weight=None, dual=True, ...</td>\n",
       "      <td>NMF(alpha=0.0, beta_loss='frobenius', init='ra...</td>\n",
       "      <td>50</td>\n",
       "      <td>5</td>\n",
       "      <td>{'classify': LinearSVC(C=10, class_weight=None...</td>\n",
       "      <td>0.957761</td>\n",
       "      <td>0.961985</td>\n",
       "      <td>0.965153</td>\n",
       "      <td>0.957717</td>\n",
       "      <td>0.965079</td>\n",
       "      <td>0.961538</td>\n",
       "      <td>0.003307</td>\n",
       "      <td>9</td>\n",
       "    </tr>\n",
       "    <tr>\n",
       "      <td>4</td>\n",
       "      <td>37.279207</td>\n",
       "      <td>1.028014</td>\n",
       "      <td>9.165670</td>\n",
       "      <td>0.626450</td>\n",
       "      <td>LogisticRegression(C=10, class_weight=None, du...</td>\n",
       "      <td>TruncatedSVD(algorithm='randomized', n_compone...</td>\n",
       "      <td>50</td>\n",
       "      <td>3</td>\n",
       "      <td>{'classify': LogisticRegression(C=10, class_we...</td>\n",
       "      <td>0.964097</td>\n",
       "      <td>0.973601</td>\n",
       "      <td>0.966209</td>\n",
       "      <td>0.961945</td>\n",
       "      <td>0.971429</td>\n",
       "      <td>0.967456</td>\n",
       "      <td>0.004399</td>\n",
       "      <td>2</td>\n",
       "    </tr>\n",
       "    <tr>\n",
       "      <td>5</td>\n",
       "      <td>37.676699</td>\n",
       "      <td>0.849795</td>\n",
       "      <td>9.238283</td>\n",
       "      <td>0.683225</td>\n",
       "      <td>LogisticRegression(C=10, class_weight=None, du...</td>\n",
       "      <td>TruncatedSVD(algorithm='randomized', n_compone...</td>\n",
       "      <td>50</td>\n",
       "      <td>5</td>\n",
       "      <td>{'classify': LogisticRegression(C=10, class_we...</td>\n",
       "      <td>0.966209</td>\n",
       "      <td>0.973601</td>\n",
       "      <td>0.964097</td>\n",
       "      <td>0.963002</td>\n",
       "      <td>0.969312</td>\n",
       "      <td>0.967244</td>\n",
       "      <td>0.003839</td>\n",
       "      <td>3</td>\n",
       "    </tr>\n",
       "    <tr>\n",
       "      <td>6</td>\n",
       "      <td>52.213855</td>\n",
       "      <td>1.171028</td>\n",
       "      <td>10.081029</td>\n",
       "      <td>1.081558</td>\n",
       "      <td>LogisticRegression(C=10, class_weight=None, du...</td>\n",
       "      <td>NMF(alpha=0.0, beta_loss='frobenius', init='ra...</td>\n",
       "      <td>50</td>\n",
       "      <td>3</td>\n",
       "      <td>{'classify': LogisticRegression(C=10, class_we...</td>\n",
       "      <td>0.953537</td>\n",
       "      <td>0.969377</td>\n",
       "      <td>0.966209</td>\n",
       "      <td>0.958774</td>\n",
       "      <td>0.977778</td>\n",
       "      <td>0.965131</td>\n",
       "      <td>0.008412</td>\n",
       "      <td>8</td>\n",
       "    </tr>\n",
       "    <tr>\n",
       "      <td>7</td>\n",
       "      <td>48.060955</td>\n",
       "      <td>1.038024</td>\n",
       "      <td>9.842872</td>\n",
       "      <td>0.769614</td>\n",
       "      <td>LogisticRegression(C=10, class_weight=None, du...</td>\n",
       "      <td>NMF(alpha=0.0, beta_loss='frobenius', init='ra...</td>\n",
       "      <td>50</td>\n",
       "      <td>5</td>\n",
       "      <td>{'classify': LogisticRegression(C=10, class_we...</td>\n",
       "      <td>0.957761</td>\n",
       "      <td>0.970433</td>\n",
       "      <td>0.968321</td>\n",
       "      <td>0.960888</td>\n",
       "      <td>0.973545</td>\n",
       "      <td>0.966188</td>\n",
       "      <td>0.005929</td>\n",
       "      <td>6</td>\n",
       "    </tr>\n",
       "    <tr>\n",
       "      <td>8</td>\n",
       "      <td>38.027536</td>\n",
       "      <td>1.517974</td>\n",
       "      <td>9.417216</td>\n",
       "      <td>0.397052</td>\n",
       "      <td>LogisticRegression(C=100, class_weight=None, d...</td>\n",
       "      <td>TruncatedSVD(algorithm='randomized', n_compone...</td>\n",
       "      <td>50</td>\n",
       "      <td>3</td>\n",
       "      <td>{'classify': LogisticRegression(C=100, class_w...</td>\n",
       "      <td>0.961985</td>\n",
       "      <td>0.975713</td>\n",
       "      <td>0.964097</td>\n",
       "      <td>0.960888</td>\n",
       "      <td>0.969312</td>\n",
       "      <td>0.966399</td>\n",
       "      <td>0.005485</td>\n",
       "      <td>5</td>\n",
       "    </tr>\n",
       "    <tr>\n",
       "      <td>9</td>\n",
       "      <td>39.597923</td>\n",
       "      <td>2.881872</td>\n",
       "      <td>9.573431</td>\n",
       "      <td>0.719705</td>\n",
       "      <td>LogisticRegression(C=100, class_weight=None, d...</td>\n",
       "      <td>TruncatedSVD(algorithm='randomized', n_compone...</td>\n",
       "      <td>50</td>\n",
       "      <td>5</td>\n",
       "      <td>{'classify': LogisticRegression(C=100, class_w...</td>\n",
       "      <td>0.964097</td>\n",
       "      <td>0.975713</td>\n",
       "      <td>0.969377</td>\n",
       "      <td>0.961945</td>\n",
       "      <td>0.969312</td>\n",
       "      <td>0.968090</td>\n",
       "      <td>0.004796</td>\n",
       "      <td>1</td>\n",
       "    </tr>\n",
       "    <tr>\n",
       "      <td>10</td>\n",
       "      <td>55.912017</td>\n",
       "      <td>1.962044</td>\n",
       "      <td>10.514340</td>\n",
       "      <td>1.547078</td>\n",
       "      <td>LogisticRegression(C=100, class_weight=None, d...</td>\n",
       "      <td>NMF(alpha=0.0, beta_loss='frobenius', init='ra...</td>\n",
       "      <td>50</td>\n",
       "      <td>3</td>\n",
       "      <td>{'classify': LogisticRegression(C=100, class_w...</td>\n",
       "      <td>0.950370</td>\n",
       "      <td>0.966209</td>\n",
       "      <td>0.958817</td>\n",
       "      <td>0.957717</td>\n",
       "      <td>0.968254</td>\n",
       "      <td>0.960270</td>\n",
       "      <td>0.006413</td>\n",
       "      <td>11</td>\n",
       "    </tr>\n",
       "    <tr>\n",
       "      <td>11</td>\n",
       "      <td>53.006862</td>\n",
       "      <td>2.599466</td>\n",
       "      <td>10.345873</td>\n",
       "      <td>1.096744</td>\n",
       "      <td>LogisticRegression(C=100, class_weight=None, d...</td>\n",
       "      <td>NMF(alpha=0.0, beta_loss='frobenius', init='ra...</td>\n",
       "      <td>50</td>\n",
       "      <td>5</td>\n",
       "      <td>{'classify': LogisticRegression(C=100, class_w...</td>\n",
       "      <td>0.957761</td>\n",
       "      <td>0.961985</td>\n",
       "      <td>0.965153</td>\n",
       "      <td>0.956660</td>\n",
       "      <td>0.964021</td>\n",
       "      <td>0.961116</td>\n",
       "      <td>0.003365</td>\n",
       "      <td>10</td>\n",
       "    </tr>\n",
       "    <tr>\n",
       "      <td>12</td>\n",
       "      <td>43.634392</td>\n",
       "      <td>1.351965</td>\n",
       "      <td>11.726526</td>\n",
       "      <td>1.342993</td>\n",
       "      <td>GaussianNB(priors=None, var_smoothing=1e-09)</td>\n",
       "      <td>TruncatedSVD(algorithm='randomized', n_compone...</td>\n",
       "      <td>50</td>\n",
       "      <td>3</td>\n",
       "      <td>{'classify': GaussianNB(priors=None, var_smoot...</td>\n",
       "      <td>0.861668</td>\n",
       "      <td>0.840549</td>\n",
       "      <td>0.832101</td>\n",
       "      <td>0.830867</td>\n",
       "      <td>0.861376</td>\n",
       "      <td>0.845309</td>\n",
       "      <td>0.013647</td>\n",
       "      <td>15</td>\n",
       "    </tr>\n",
       "    <tr>\n",
       "      <td>13</td>\n",
       "      <td>44.279072</td>\n",
       "      <td>1.458354</td>\n",
       "      <td>10.750763</td>\n",
       "      <td>1.151780</td>\n",
       "      <td>GaussianNB(priors=None, var_smoothing=1e-09)</td>\n",
       "      <td>TruncatedSVD(algorithm='randomized', n_compone...</td>\n",
       "      <td>50</td>\n",
       "      <td>5</td>\n",
       "      <td>{'classify': GaussianNB(priors=None, var_smoot...</td>\n",
       "      <td>0.856389</td>\n",
       "      <td>0.832101</td>\n",
       "      <td>0.824710</td>\n",
       "      <td>0.846723</td>\n",
       "      <td>0.856085</td>\n",
       "      <td>0.843195</td>\n",
       "      <td>0.012787</td>\n",
       "      <td>16</td>\n",
       "    </tr>\n",
       "    <tr>\n",
       "      <td>14</td>\n",
       "      <td>58.241317</td>\n",
       "      <td>1.492069</td>\n",
       "      <td>10.710842</td>\n",
       "      <td>1.224799</td>\n",
       "      <td>GaussianNB(priors=None, var_smoothing=1e-09)</td>\n",
       "      <td>NMF(alpha=0.0, beta_loss='frobenius', init='ra...</td>\n",
       "      <td>50</td>\n",
       "      <td>3</td>\n",
       "      <td>{'classify': GaussianNB(priors=None, var_smoot...</td>\n",
       "      <td>0.938754</td>\n",
       "      <td>0.945090</td>\n",
       "      <td>0.941922</td>\n",
       "      <td>0.935518</td>\n",
       "      <td>0.954497</td>\n",
       "      <td>0.943153</td>\n",
       "      <td>0.006502</td>\n",
       "      <td>14</td>\n",
       "    </tr>\n",
       "    <tr>\n",
       "      <td>15</td>\n",
       "      <td>52.705450</td>\n",
       "      <td>2.960468</td>\n",
       "      <td>10.701568</td>\n",
       "      <td>1.168199</td>\n",
       "      <td>GaussianNB(priors=None, var_smoothing=1e-09)</td>\n",
       "      <td>NMF(alpha=0.0, beta_loss='frobenius', init='ra...</td>\n",
       "      <td>50</td>\n",
       "      <td>5</td>\n",
       "      <td>{'classify': GaussianNB(priors=None, var_smoot...</td>\n",
       "      <td>0.945090</td>\n",
       "      <td>0.955649</td>\n",
       "      <td>0.944034</td>\n",
       "      <td>0.943975</td>\n",
       "      <td>0.941799</td>\n",
       "      <td>0.946112</td>\n",
       "      <td>0.004889</td>\n",
       "      <td>13</td>\n",
       "    </tr>\n",
       "  </tbody>\n",
       "</table>\n",
       "</div>"
      ],
      "text/plain": [
       "    mean_fit_time  std_fit_time  mean_score_time  std_score_time  \\\n",
       "0       40.688131      2.115553        10.160943        1.185513   \n",
       "1       38.414668      1.332192         9.440266        0.665080   \n",
       "2       54.626007      1.604888        10.719662        0.802512   \n",
       "3       47.136935      1.969215         9.387882        0.567306   \n",
       "4       37.279207      1.028014         9.165670        0.626450   \n",
       "5       37.676699      0.849795         9.238283        0.683225   \n",
       "6       52.213855      1.171028        10.081029        1.081558   \n",
       "7       48.060955      1.038024         9.842872        0.769614   \n",
       "8       38.027536      1.517974         9.417216        0.397052   \n",
       "9       39.597923      2.881872         9.573431        0.719705   \n",
       "10      55.912017      1.962044        10.514340        1.547078   \n",
       "11      53.006862      2.599466        10.345873        1.096744   \n",
       "12      43.634392      1.351965        11.726526        1.342993   \n",
       "13      44.279072      1.458354        10.750763        1.151780   \n",
       "14      58.241317      1.492069        10.710842        1.224799   \n",
       "15      52.705450      2.960468        10.701568        1.168199   \n",
       "\n",
       "                                       param_classify  \\\n",
       "0   LinearSVC(C=10, class_weight=None, dual=True, ...   \n",
       "1   LinearSVC(C=10, class_weight=None, dual=True, ...   \n",
       "2   LinearSVC(C=10, class_weight=None, dual=True, ...   \n",
       "3   LinearSVC(C=10, class_weight=None, dual=True, ...   \n",
       "4   LogisticRegression(C=10, class_weight=None, du...   \n",
       "5   LogisticRegression(C=10, class_weight=None, du...   \n",
       "6   LogisticRegression(C=10, class_weight=None, du...   \n",
       "7   LogisticRegression(C=10, class_weight=None, du...   \n",
       "8   LogisticRegression(C=100, class_weight=None, d...   \n",
       "9   LogisticRegression(C=100, class_weight=None, d...   \n",
       "10  LogisticRegression(C=100, class_weight=None, d...   \n",
       "11  LogisticRegression(C=100, class_weight=None, d...   \n",
       "12       GaussianNB(priors=None, var_smoothing=1e-09)   \n",
       "13       GaussianNB(priors=None, var_smoothing=1e-09)   \n",
       "14       GaussianNB(priors=None, var_smoothing=1e-09)   \n",
       "15       GaussianNB(priors=None, var_smoothing=1e-09)   \n",
       "\n",
       "                                     param_reduce_dim  \\\n",
       "0   TruncatedSVD(algorithm='randomized', n_compone...   \n",
       "1   TruncatedSVD(algorithm='randomized', n_compone...   \n",
       "2   NMF(alpha=0.0, beta_loss='frobenius', init='ra...   \n",
       "3   NMF(alpha=0.0, beta_loss='frobenius', init='ra...   \n",
       "4   TruncatedSVD(algorithm='randomized', n_compone...   \n",
       "5   TruncatedSVD(algorithm='randomized', n_compone...   \n",
       "6   NMF(alpha=0.0, beta_loss='frobenius', init='ra...   \n",
       "7   NMF(alpha=0.0, beta_loss='frobenius', init='ra...   \n",
       "8   TruncatedSVD(algorithm='randomized', n_compone...   \n",
       "9   TruncatedSVD(algorithm='randomized', n_compone...   \n",
       "10  NMF(alpha=0.0, beta_loss='frobenius', init='ra...   \n",
       "11  NMF(alpha=0.0, beta_loss='frobenius', init='ra...   \n",
       "12  TruncatedSVD(algorithm='randomized', n_compone...   \n",
       "13  TruncatedSVD(algorithm='randomized', n_compone...   \n",
       "14  NMF(alpha=0.0, beta_loss='frobenius', init='ra...   \n",
       "15  NMF(alpha=0.0, beta_loss='frobenius', init='ra...   \n",
       "\n",
       "   param_reduce_dim__n_components param_vector__min_df  \\\n",
       "0                              50                    3   \n",
       "1                              50                    5   \n",
       "2                              50                    3   \n",
       "3                              50                    5   \n",
       "4                              50                    3   \n",
       "5                              50                    5   \n",
       "6                              50                    3   \n",
       "7                              50                    5   \n",
       "8                              50                    3   \n",
       "9                              50                    5   \n",
       "10                             50                    3   \n",
       "11                             50                    5   \n",
       "12                             50                    3   \n",
       "13                             50                    5   \n",
       "14                             50                    3   \n",
       "15                             50                    5   \n",
       "\n",
       "                                               params  split0_test_score  \\\n",
       "0   {'classify': LinearSVC(C=10, class_weight=None...           0.959873   \n",
       "1   {'classify': LinearSVC(C=10, class_weight=None...           0.963041   \n",
       "2   {'classify': LinearSVC(C=10, class_weight=None...           0.950370   \n",
       "3   {'classify': LinearSVC(C=10, class_weight=None...           0.957761   \n",
       "4   {'classify': LogisticRegression(C=10, class_we...           0.964097   \n",
       "5   {'classify': LogisticRegression(C=10, class_we...           0.966209   \n",
       "6   {'classify': LogisticRegression(C=10, class_we...           0.953537   \n",
       "7   {'classify': LogisticRegression(C=10, class_we...           0.957761   \n",
       "8   {'classify': LogisticRegression(C=100, class_w...           0.961985   \n",
       "9   {'classify': LogisticRegression(C=100, class_w...           0.964097   \n",
       "10  {'classify': LogisticRegression(C=100, class_w...           0.950370   \n",
       "11  {'classify': LogisticRegression(C=100, class_w...           0.957761   \n",
       "12  {'classify': GaussianNB(priors=None, var_smoot...           0.861668   \n",
       "13  {'classify': GaussianNB(priors=None, var_smoot...           0.856389   \n",
       "14  {'classify': GaussianNB(priors=None, var_smoot...           0.938754   \n",
       "15  {'classify': GaussianNB(priors=None, var_smoot...           0.945090   \n",
       "\n",
       "    split1_test_score  split2_test_score  split3_test_score  \\\n",
       "0            0.972545           0.966209           0.960888   \n",
       "1            0.973601           0.967265           0.958774   \n",
       "2            0.967265           0.958817           0.956660   \n",
       "3            0.961985           0.965153           0.957717   \n",
       "4            0.973601           0.966209           0.961945   \n",
       "5            0.973601           0.964097           0.963002   \n",
       "6            0.969377           0.966209           0.958774   \n",
       "7            0.970433           0.968321           0.960888   \n",
       "8            0.975713           0.964097           0.960888   \n",
       "9            0.975713           0.969377           0.961945   \n",
       "10           0.966209           0.958817           0.957717   \n",
       "11           0.961985           0.965153           0.956660   \n",
       "12           0.840549           0.832101           0.830867   \n",
       "13           0.832101           0.824710           0.846723   \n",
       "14           0.945090           0.941922           0.935518   \n",
       "15           0.955649           0.944034           0.943975   \n",
       "\n",
       "    split4_test_score  mean_test_score  std_test_score  rank_test_score  \n",
       "0            0.970370         0.965976        0.005013                7  \n",
       "1            0.970370         0.966610        0.005246                4  \n",
       "2            0.968254         0.960270        0.006721               11  \n",
       "3            0.965079         0.961538        0.003307                9  \n",
       "4            0.971429         0.967456        0.004399                2  \n",
       "5            0.969312         0.967244        0.003839                3  \n",
       "6            0.977778         0.965131        0.008412                8  \n",
       "7            0.973545         0.966188        0.005929                6  \n",
       "8            0.969312         0.966399        0.005485                5  \n",
       "9            0.969312         0.968090        0.004796                1  \n",
       "10           0.968254         0.960270        0.006413               11  \n",
       "11           0.964021         0.961116        0.003365               10  \n",
       "12           0.861376         0.845309        0.013647               15  \n",
       "13           0.856085         0.843195        0.012787               16  \n",
       "14           0.954497         0.943153        0.006502               14  \n",
       "15           0.941799         0.946112        0.004889               13  "
      ]
     },
     "execution_count": 30,
     "metadata": {
      "tags": []
     },
     "output_type": "execute_result"
    }
   ],
   "source": [
    "N_FEATURES_OPTIONS = [50]\n",
    "C_OPTIONS = [0.0001, 1000]\n",
    "\n",
    "pipeline_grid = Pipeline([\n",
    "    ('vector', CountVectorizer(analyzer = lemmatized_remove_num, min_df = 3)),\n",
    "    ('tf-idf', TfidfTransformer()),\n",
    "    ('reduce_dim', TruncatedSVD(n_components=50, random_state=42)),\n",
    "    ('classify',LinearSVC())\n",
    "])\n",
    "\n",
    "param_grid = [ \n",
    "    {\n",
    "        \n",
    "        'vector__min_df': [3, 5],\n",
    "        'reduce_dim': [TruncatedSVD(n_components=50, random_state=42), NMF(n_components=50, init='random', random_state=42)],\n",
    "        'reduce_dim__n_components': N_FEATURES_OPTIONS,\n",
    "        'classify': [LinearSVC(C=10), \n",
    "                LogisticRegression(random_state=0, penalty='l1', solver='liblinear', C=10), \n",
    "                LogisticRegression(random_state=0, penalty='l2', solver='liblinear', C=100), \n",
    "                GaussianNB()\n",
    "                ]\n",
    "        # 'classify__C': C_OPTIONS\n",
    "    }\n",
    "]\n",
    "\n",
    "import pandas as pd\n",
    "\n",
    "# grid = GridSearchCV(pipeline_grid, cv=2, n_jobs=1, param_grid=param_grid, scoring=make_scorer(my_score, greater_is_better=True, needs_proba=True))\n",
    "grid = GridSearchCV(pipeline_grid, cv=5, n_jobs=1, param_grid=param_grid, scoring='accuracy')\n",
    "grid.fit(train_dataset.data, y_train_label)\n",
    "pd.DataFrame(grid.cv_results_)"
   ]
  },
  {
   "cell_type": "markdown",
   "metadata": {
    "colab_type": "text",
    "id": "O3gYv-TX0elR"
   },
   "source": [
    "**Q8**"
   ]
  },
  {
   "cell_type": "code",
   "execution_count": null,
   "metadata": {
    "colab": {},
    "colab_type": "code",
    "id": "Gdcrw1-l0YAO"
   },
   "outputs": [],
   "source": [
    "# Load the data\n",
    "categoriesQ8 = ['comp.sys.ibm.pc.hardware', 'comp.sys.mac.hardware','misc.forsale', 'soc.religion.christian']\n",
    "train_datasetQ8 = fetch_20newsgroups(subset = 'train', categories = categoriesQ8, shuffle = True, random_state = 42)\n",
    "test_datasetQ8 = fetch_20newsgroups(subset = 'test', categories = categoriesQ8, shuffle = True, random_state = 42)\n",
    "\n",
    "stop_dict = set(stop_words)"
   ]
  },
  {
   "cell_type": "code",
   "execution_count": null,
   "metadata": {
    "colab": {},
    "colab_type": "code",
    "id": "rhlP01cy0YAQ"
   },
   "outputs": [],
   "source": [
    "processed_data_trainQ8, processed_data_testQ8 = pre_processing(train_datasetQ8, test_datasetQ8, stop_dict)"
   ]
  },
  {
   "cell_type": "code",
   "execution_count": null,
   "metadata": {
    "colab": {},
    "colab_type": "code",
    "id": "cwjqJVtN0YAR"
   },
   "outputs": [],
   "source": [
    "from sklearn.feature_extraction.text import CountVectorizer, TfidfVectorizer, TfidfTransformer\n",
    "transformer = TfidfTransformer()\n",
    "tfidf_matrix_trainQ8 = transformer.fit_transform(processed_data_trainQ8)\n",
    "tfidf_matrix_testQ8 = transformer.transform(processed_data_testQ8)\n",
    "\n",
    "# print(tfidf_matrix.toarray())\n",
    "# np.shape(tfidf_matrix.toarray())"
   ]
  },
  {
   "cell_type": "code",
   "execution_count": null,
   "metadata": {
    "colab": {},
    "colab_type": "code",
    "id": "H8h2LEwE0YAT"
   },
   "outputs": [],
   "source": [
    "from sklearn.decomposition import TruncatedSVD\n",
    "def svd_processing(tfidf_matrix_train, tfidf_matrix_test):\n",
    "    svd = TruncatedSVD(n_components=50, random_state=42)\n",
    "    tfidf_matrix_LSI_train = svd.fit_transform(tfidf_matrix_train)\n",
    "    tfidf_matrix_LSI_test = svd.transform(tfidf_matrix_test)\n",
    "    print('Train SVD reduced set shape: ', tfidf_matrix_LSI_train.shape)\n",
    "    print('Test SVD reduced set shape: ', tfidf_matrix_LSI_test.shape)\n",
    "    Vk = svd.components_\n",
    "    LSI_train_error=np.sum(np.array(tfidf_matrix_train - tfidf_matrix_LSI_train.dot(Vk))**2)\n",
    "    LSI_test_error=np.sum(np.array(tfidf_matrix_test - tfidf_matrix_LSI_test.dot(Vk))**2)\n",
    "\n",
    "    print('LSI_train_error',LSI_train_error)\n",
    "    print('LSI_test_error',LSI_test_error)\n",
    "    return tfidf_matrix_LSI_train, tfidf_matrix_LSI_test\n"
   ]
  },
  {
   "cell_type": "code",
   "execution_count": 41,
   "metadata": {
    "colab": {
     "base_uri": "https://localhost:8080/",
     "height": 84
    },
    "colab_type": "code",
    "id": "BLuSzsRd0YAU",
    "outputId": "6dc44e21-513b-4d25-9860-6773fc3cad29"
   },
   "outputs": [
    {
     "name": "stdout",
     "output_type": "stream",
     "text": [
      "Train SVD reduced set shape:  (2352, 50)\n",
      "Test SVD reduced set shape:  (1565, 50)\n",
      "LSI_train_error 1934.3413051803286\n",
      "LSI_test_error 1369.5923233100186\n"
     ]
    }
   ],
   "source": [
    "tfidf_matrix_LSI_trainQ8, tfidf_matrix_LSI_testQ8 = svd_processing(tfidf_matrix_trainQ8, tfidf_matrix_testQ8)"
   ]
  },
  {
   "cell_type": "markdown",
   "metadata": {
    "colab_type": "text",
    "id": "qThWRjSi0YAV"
   },
   "source": [
    "The block below is to plot the ROC_curve and print some metrics information."
   ]
  },
  {
   "cell_type": "code",
   "execution_count": null,
   "metadata": {
    "colab": {},
    "colab_type": "code",
    "id": "s73rvtB20YAW"
   },
   "outputs": [],
   "source": [
    "#y_test_label is the true value of y, y_pred is the result of the model prediction, probs is the probability of test, which is computed by clf.predict_proba(Xtest)\n",
    "from sklearn.metrics import confusion_matrix,accuracy_score, f1_score, recall_score, precision_score\n",
    "from sklearn.metrics import roc_auc_score\n",
    "import matplotlib.pyplot as plt\n",
    "def metricsPrintAll4Classes(y_test_label, y_pred):\n",
    "    cmArray = confusion_matrix(y_test_label, y_pred)\n",
    "    plt.imshow(cmArray, cmap = plt.cm.Greens, interpolation='nearest')\n",
    "    plt.title('Confusion Matrix')\n",
    "    y_tick = ['Class I \\n Actual','Class II \\n Actual', 'Class III \\n Actual', 'Class IV \\n Acutal']\n",
    "    x_tick = ['Class I \\n Predict','Class II \\n Predict', 'Class III \\n Predict', 'Class IV \\n Predict']\n",
    "    tick_marks = np.arange(len(y_tick))\n",
    "    plt.xticks(tick_marks, x_tick, rotation=45)\n",
    "    plt.yticks(tick_marks, y_tick)\n",
    "    plt.colorbar()\n",
    "    plt.show()\n",
    "    print('Confusion Matrix: \\n', cmArray)\n",
    "    print('Accuracy %.3f' %accuracy_score(y_test_label, y_pred))\n",
    "    print('F1 score %.3f' %f1_score(y_test_label, y_pred, average='macro'))\n",
    "    print('Recall score %.3f' %recall_score(y_test_label, y_pred, average='macro'))\n",
    "    print('Precision score %.3f' %precision_score(y_test_label, y_pred, average='macro') )"
   ]
  },
  {
   "cell_type": "markdown",
   "metadata": {
    "colab_type": "text",
    "id": "bOfbb9nb0YAY"
   },
   "source": [
    " **Question8**"
   ]
  },
  {
   "cell_type": "code",
   "execution_count": 42,
   "metadata": {
    "colab": {
     "base_uri": "https://localhost:8080/",
     "height": 468
    },
    "colab_type": "code",
    "id": "nT5V8LSpSQsC",
    "outputId": "3bba8987-4a72-44b4-82db-b0fd1642cafe"
   },
   "outputs": [
    {
     "data": {
      "image/png": "[encoded data removed]",
      "text/plain": [
       "<Figure size 432x288 with 2 Axes>"
      ]
     },
     "metadata": {
      "tags": []
     },
     "output_type": "display_data"
    },
    {
     "name": "stdout",
     "output_type": "stream",
     "text": [
      "Confusion Matrix: \n",
      " [[231  43 115   3]\n",
      " [106 152 124   3]\n",
      " [ 49  42 297   2]\n",
      " [  0   1  14 383]]\n",
      "Accuracy 0.679\n",
      "F1 score 0.671\n",
      "Recall score 0.677\n",
      "Precision score 0.689\n"
     ]
    }
   ],
   "source": [
    "from sklearn.naive_bayes import GaussianNB\n",
    "clfNBQ8 = GaussianNB()\n",
    "clfNBQ8.fit(tfidf_matrix_LSI_trainQ8, train_datasetQ8.target)\n",
    "y_predNBQ8 = clfNBQ8.predict(tfidf_matrix_LSI_testQ8)\n",
    "metricsPrintAll4Classes(test_datasetQ8.target, y_predNBQ8)"
   ]
  },
  {
   "cell_type": "markdown",
   "metadata": {
    "colab_type": "text",
    "id": "JIDckxRwXSdq"
   },
   "source": [
    "**OVO**"
   ]
  },
  {
   "cell_type": "code",
   "execution_count": 43,
   "metadata": {
    "colab": {
     "base_uri": "https://localhost:8080/",
     "height": 468
    },
    "colab_type": "code",
    "id": "_C2XVPplWqDv",
    "outputId": "4388f06f-5778-4e7e-a57e-018b61e445cd"
   },
   "outputs": [
    {
     "data": {
      "image/png": "[encoded data removed]",
      "text/plain": [
       "<Figure size 432x288 with 2 Axes>"
      ]
     },
     "metadata": {
      "tags": []
     },
     "output_type": "display_data"
    },
    {
     "name": "stdout",
     "output_type": "stream",
     "text": [
      "Confusion Matrix: \n",
      " [[324  42  26   0]\n",
      " [ 42 324  18   1]\n",
      " [ 21  20 348   1]\n",
      " [  7   2   1 388]]\n",
      "Accuracy 0.884\n",
      "F1 score 0.884\n",
      "Recall score 0.884\n",
      "Precision score 0.884\n"
     ]
    }
   ],
   "source": [
    "from sklearn import svm\n",
    "clfSVMOVO = svm.SVC(decision_function_shape='ovo')\n",
    "clfSVMOVO.fit(tfidf_matrix_LSI_trainQ8, train_datasetQ8.target)\n",
    "y_predSVMOVO = clfSVMOVO.predict(tfidf_matrix_LSI_testQ8)\n",
    "metricsPrintAll4Classes(test_datasetQ8.target, y_predSVMOVO)"
   ]
  },
  {
   "cell_type": "markdown",
   "metadata": {
    "colab_type": "text",
    "id": "WqsLwR1uXWcb"
   },
   "source": [
    "**OVR**"
   ]
  },
  {
   "cell_type": "code",
   "execution_count": 44,
   "metadata": {
    "colab": {
     "base_uri": "https://localhost:8080/",
     "height": 468
    },
    "colab_type": "code",
    "id": "vZVSDlO1XWOH",
    "outputId": "6351ce7d-df35-4c3a-d906-677ccb807ed4"
   },
   "outputs": [
    {
     "data": {
      "image/png": "[encoded data removed]",
      "text/plain": [
       "<Figure size 432x288 with 2 Axes>"
      ]
     },
     "metadata": {
      "tags": []
     },
     "output_type": "display_data"
    },
    {
     "name": "stdout",
     "output_type": "stream",
     "text": [
      "Confusion Matrix: \n",
      " [[318  49  24   1]\n",
      " [ 38 319  26   2]\n",
      " [ 23  15 351   1]\n",
      " [  7   1   2 388]]\n",
      "Accuracy 0.879\n",
      "F1 score 0.879\n",
      "Recall score 0.879\n",
      "Precision score 0.879\n"
     ]
    }
   ],
   "source": [
    "lin_clf = svm.LinearSVC()\n",
    "lin_clf.fit(tfidf_matrix_LSI_trainQ8, train_datasetQ8.target)\n",
    "y_predSVMOVR = lin_clf.predict(tfidf_matrix_LSI_testQ8)\n",
    "metricsPrintAll4Classes(test_datasetQ8.target, y_predSVMOVR) "
   ]
  },
  {
   "cell_type": "code",
   "execution_count": null,
   "metadata": {
    "colab": {},
    "colab_type": "code",
    "id": "84tXzL_o4bjg"
   },
   "outputs": [],
   "source": []
  }
 ],
 "metadata": {
  "colab": {
   "collapsed_sections": [],
   "name": "finalVersion.ipynb",
   "provenance": []
  },
  "kernelspec": {
   "display_name": "Python 3",
   "language": "python",
   "name": "python3"
  },
  "language_info": {
   "codemirror_mode": {
    "name": "ipython",
    "version": 3
   },
   "file_extension": ".py",
   "mimetype": "text/x-python",
   "name": "python",
   "nbconvert_exporter": "python",
   "pygments_lexer": "ipython3",
   "version": "3.6.10"
  }
 },
 "nbformat": 4,
 "nbformat_minor": 4
}
